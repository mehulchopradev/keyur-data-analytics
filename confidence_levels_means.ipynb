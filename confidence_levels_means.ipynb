{
 "cells": [
  {
   "cell_type": "markdown",
   "metadata": {},
   "source": [
    "We are interested in estimating the mean amount of time it takes for high school students to complete a particular test consisting of riddles. A random sample of 10 students were taken and they were independently given the test to solve. The amount of time in minutes was captured and it was observed that the sample data was almost symmetrical around its mean\n",
    "The mean of the sample was 30 minutes and the standard deviation of sample was 1.1 minutes\n",
    "Considering a 95% confidence level, build a confidence interval for the mean time in minutes, it takes for the students to complete that test\n"
   ]
  },
  {
   "cell_type": "code",
   "execution_count": 1,
   "metadata": {
    "collapsed": true
   },
   "outputs": [],
   "source": [
    "from scipy.stats import t\n",
    "from math import sqrt"
   ]
  },
  {
   "cell_type": "code",
   "execution_count": 2,
   "metadata": {
    "collapsed": true
   },
   "outputs": [],
   "source": [
    "n = 10\n",
    "mean_sample = 30\n",
    "std_sample = 1.1\n",
    "confidence_level = 0.95"
   ]
  },
  {
   "cell_type": "code",
   "execution_count": 3,
   "metadata": {
    "collapsed": true
   },
   "outputs": [],
   "source": [
    "# Random : It is a random sample\n",
    "# Normal\n",
    " # sample size is not >= 30\n",
    " # No mention of population being normally distributed\n",
    " # But the sample data is mentioned to be symmetric - We assume normal condition hence\n",
    "# Independence\n",
    "  # All students do the test independently"
   ]
  },
  {
   "cell_type": "code",
   "execution_count": 3,
   "metadata": {},
   "outputs": [
    {
     "name": "stdout",
     "output_type": "stream",
     "text": [
      "0.975\n",
      "9\n"
     ]
    }
   ],
   "source": [
    "t_area = 1-0.025\n",
    "print(t_area)\n",
    "df = n - 1\n",
    "print(df)"
   ]
  },
  {
   "cell_type": "code",
   "execution_count": 5,
   "metadata": {},
   "outputs": [
    {
     "name": "stdout",
     "output_type": "stream",
     "text": [
      "0.3478505426185217\n"
     ]
    }
   ],
   "source": [
    "std_sampling_distribution = std_sample / sqrt(n)\n",
    "print(std_sampling_distribution)"
   ]
  },
  {
   "cell_type": "code",
   "execution_count": 6,
   "metadata": {},
   "outputs": [
    {
     "name": "stdout",
     "output_type": "stream",
     "text": [
      "30.7868925965\n"
     ]
    }
   ],
   "source": [
    "upper_level = t.ppf(q=t_area, df=df, loc=mean_sample, scale=std_sampling_distribution)\n",
    "print(upper_level)"
   ]
  },
  {
   "cell_type": "code",
   "execution_count": 7,
   "metadata": {},
   "outputs": [
    {
     "name": "stdout",
     "output_type": "stream",
     "text": [
      "29.2131074035\n"
     ]
    }
   ],
   "source": [
    "diff = upper_level - mean_sample\n",
    "lower_level = mean_sample - diff\n",
    "print(lower_level)"
   ]
  },
  {
   "cell_type": "code",
   "execution_count": 8,
   "metadata": {},
   "outputs": [
    {
     "name": "stdout",
     "output_type": "stream",
     "text": [
      "With a confidence level of 95.0% we can expect the mean time in minutes to be between     29.21310740345217 : 30.78689259654783\n"
     ]
    }
   ],
   "source": [
    "print('With a confidence level of {0}% we can expect the mean time in minutes to be between \\\n",
    "    {1} : {2}'.format(confidence_level * 100, lower_level, upper_level))"
   ]
  }
 ],
 "metadata": {
  "kernelspec": {
   "display_name": "Python 3",
   "language": "python",
   "name": "python3"
  },
  "language_info": {
   "codemirror_mode": {
    "name": "ipython",
    "version": 3
   },
   "file_extension": ".py",
   "mimetype": "text/x-python",
   "name": "python",
   "nbconvert_exporter": "python",
   "pygments_lexer": "ipython3",
   "version": "3.6.3"
  }
 },
 "nbformat": 4,
 "nbformat_minor": 2
}
