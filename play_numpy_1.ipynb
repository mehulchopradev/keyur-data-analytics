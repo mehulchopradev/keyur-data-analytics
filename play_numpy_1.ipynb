{
 "cells": [
  {
   "cell_type": "code",
   "execution_count": 35,
   "metadata": {},
   "outputs": [
    {
     "name": "stdout",
     "output_type": "stream",
     "text": [
      "Hello World\n",
      "Hello Night\n"
     ]
    }
   ],
   "source": [
    "print('Hello World')\n",
    "print('Hello Night')"
   ]
  },
  {
   "cell_type": "code",
   "execution_count": 36,
   "metadata": {},
   "outputs": [
    {
     "name": "stdout",
     "output_type": "stream",
     "text": [
      "1\n",
      "2\n",
      "3\n",
      "4\n",
      "5\n",
      "6\n",
      "7\n"
     ]
    }
   ],
   "source": [
    "for v in range(1, 8):\n",
    "    print(v)"
   ]
  },
  {
   "cell_type": "code",
   "execution_count": 37,
   "metadata": {
    "collapsed": true
   },
   "outputs": [],
   "source": [
    "import numpy as np"
   ]
  },
  {
   "cell_type": "code",
   "execution_count": 38,
   "metadata": {},
   "outputs": [
    {
     "name": "stdout",
     "output_type": "stream",
     "text": [
      "[ 3  4  5  7  5 10  1  5  6  9 10]\n",
      "<class 'numpy.ndarray'>\n",
      "(11,)\n",
      "1\n",
      "int16\n"
     ]
    }
   ],
   "source": [
    "# ndarray\n",
    "pointers = [3, 4, 5, 7, 5, 10, 1, 5, 6, 9, 10]\n",
    "n1 = np.array(pointers, dtype=np.int16)\n",
    "print(n1)\n",
    "print(type(n1))\n",
    "print(n1.shape)\n",
    "print(n1.ndim)\n",
    "print(n1.dtype)"
   ]
  },
  {
   "cell_type": "code",
   "execution_count": 39,
   "metadata": {},
   "outputs": [
    {
     "name": "stdout",
     "output_type": "stream",
     "text": [
      "3\n",
      "4\n",
      "10\n",
      "6\n",
      "[ 3 10]\n"
     ]
    }
   ],
   "source": [
    "# indexing\n",
    "print(n1[0])\n",
    "print(n1[1])\n",
    "print(n1[-1])\n",
    "print(n1[-3])\n",
    "print(n1[[0, -1]]) # Multiple indexing"
   ]
  },
  {
   "cell_type": "code",
   "execution_count": 40,
   "metadata": {},
   "outputs": [
    {
     "name": "stdout",
     "output_type": "stream",
     "text": [
      "[3 4 5]\n",
      "[ 5  6  9 10]\n"
     ]
    }
   ],
   "source": [
    "# slicing\n",
    "print(n1[:3])\n",
    "print(n1[-4:])"
   ]
  },
  {
   "cell_type": "code",
   "execution_count": 41,
   "metadata": {},
   "outputs": [
    {
     "name": "stdout",
     "output_type": "stream",
     "text": [
      "[False False  True  True  True  True False  True  True  True  True]\n",
      "[False False False False False  True False False False False  True]\n"
     ]
    }
   ],
   "source": [
    "# relational operators on numpy array\n",
    "print(n1 >= 5)\n",
    "print(n1 == 10)"
   ]
  },
  {
   "cell_type": "code",
   "execution_count": 42,
   "metadata": {},
   "outputs": [
    {
     "name": "stdout",
     "output_type": "stream",
     "text": [
      "[2 3 4 6 4 9 0 4 5 8 9]\n"
     ]
    }
   ],
   "source": [
    "# Vectorized operations\n",
    "# Get an array of marks from n1, but deducted by 1\n",
    "n2 = n1 - 1\n",
    "print(n2)"
   ]
  },
  {
   "cell_type": "code",
   "execution_count": 43,
   "metadata": {},
   "outputs": [
    {
     "name": "stdout",
     "output_type": "stream",
     "text": [
      "[5 7 5 5 9]\n"
     ]
    }
   ],
   "source": [
    "# Filtering elements from a numpy array\n",
    "# Get an array of marks from n1, but odds more than or equal 5\n",
    "n3 = n1[(n1 % 2 != 0) & (n1 >= 5)]\n",
    "print(n3)"
   ]
  },
  {
   "cell_type": "code",
   "execution_count": 44,
   "metadata": {},
   "outputs": [
    {
     "name": "stdout",
     "output_type": "stream",
     "text": [
      "[4]\n"
     ]
    }
   ],
   "source": [
    "# Get all even element less than 5\n",
    "n4 = n1[(n1 % 2 == 0) & (n1 < 5)]\n",
    "print(n4)"
   ]
  },
  {
   "cell_type": "code",
   "execution_count": 45,
   "metadata": {},
   "outputs": [
    {
     "name": "stdout",
     "output_type": "stream",
     "text": [
      "[ 3  4  5  7  5 10  1  5  6  9 10]\n",
      "[0 0 0 1 0 1 0 0 1 1 1]\n"
     ]
    }
   ],
   "source": [
    "# Vectorized branching\n",
    "print(n1)\n",
    "n5 = np.where(n1 > 5, 1, 0)\n",
    "print(n5)"
   ]
  },
  {
   "cell_type": "code",
   "execution_count": 51,
   "metadata": {},
   "outputs": [
    {
     "name": "stdout",
     "output_type": "stream",
     "text": [
      "[ 3  4  5  7  5 10  1  5  6  9 10]\n",
      "1\n",
      "10\n",
      "5.90909090909\n",
      "2.7453943401\n",
      "7.53719008264\n",
      "[ 3  7 12 19 24 34 35 40 46 55 65]\n",
      "[ 1  3  4  5  5  5  6  7  9 10 10]\n"
     ]
    }
   ],
   "source": [
    "# Mathematical operations\n",
    "print(n1)\n",
    "print(n1.min())\n",
    "print(n1.max())\n",
    "print(n1.mean())\n",
    "print(n1.std())\n",
    "print(n1.var())\n",
    "print(n1.cumsum())\n",
    "s = np.sort(n1)\n",
    "print(s)"
   ]
  },
  {
   "cell_type": "code",
   "execution_count": 54,
   "metadata": {},
   "outputs": [
    {
     "name": "stdout",
     "output_type": "stream",
     "text": [
      "[ 1.  1.  1.  1.  1.  1.  1.  1.  1.  1.]\n",
      "[ 0.  0.  0.  0.  0.  0.  0.  0.  0.  0.  0.  0.  0.  0.  0.  0.  0.  0.\n",
      "  0.  0.]\n",
      "[ 5  6  7  8  9 10 11 12 13 14 15]\n"
     ]
    }
   ],
   "source": [
    "# number generating capability\n",
    "print(np.ones(10))\n",
    "print(np.zeros(20))\n",
    "print(np.arange(5, 16))"
   ]
  }
 ],
 "metadata": {
  "kernelspec": {
   "display_name": "Python 3",
   "language": "python",
   "name": "python3"
  },
  "language_info": {
   "codemirror_mode": {
    "name": "ipython",
    "version": 3
   },
   "file_extension": ".py",
   "mimetype": "text/x-python",
   "name": "python",
   "nbconvert_exporter": "python",
   "pygments_lexer": "ipython3",
   "version": "3.6.3"
  }
 },
 "nbformat": 4,
 "nbformat_minor": 2
}
