{
 "cells": [
  {
   "cell_type": "markdown",
   "metadata": {},
   "source": [
    "A population census in a state says that 43% of the students are in favour of non-veg being served in the canteen of their educational institutions. One educational institute in that state feels that the number is way above 43%. They draw out a random sample of 50 students from their institute and find that 28 students from the sample preferred non-veg being served. The educational institute has set a significance level of 5%\n",
    "Give statistical justification on whether the hypothesis can be rejected or no ?\n"
   ]
  },
  {
   "cell_type": "code",
   "execution_count": 6,
   "metadata": {
    "collapsed": true
   },
   "outputs": [],
   "source": [
    "from scipy.stats import norm\n",
    "from math import sqrt"
   ]
  },
  {
   "cell_type": "code",
   "execution_count": 1,
   "metadata": {
    "collapsed": true
   },
   "outputs": [],
   "source": [
    "pop_prop_non_veg = 0.43\n",
    "sample_size = 50"
   ]
  },
  {
   "cell_type": "code",
   "execution_count": 15,
   "metadata": {},
   "outputs": [
    {
     "name": "stdout",
     "output_type": "stream",
     "text": [
      "True\n"
     ]
    }
   ],
   "source": [
    "is_normal_sample = (sample_size * pop_prop_non_veg) >= 10 and (sample_size * (1 - pop_prop_non_veg)) >= 10\n",
    "print(is_normal_sample)"
   ]
  },
  {
   "cell_type": "code",
   "execution_count": 4,
   "metadata": {},
   "outputs": [
    {
     "name": "stdout",
     "output_type": "stream",
     "text": [
      "Mean of the sampling distribution of sample proportions assuming null hypothesis true is 0.43\n",
      "Std deviation of sampling distribution of sample proportions assuming null hypothesis true is    0.07001428425685718\n"
     ]
    }
   ],
   "source": [
    "# sampling distribution of sample proportions\n",
    "# assuming that the population proportion of 0.43 is true\n",
    "# Ho - null hypothesis - pop_prop_non_veg = 0.43\n",
    "mean_sampling_dis_sample_props = pop_prop_non_veg\n",
    "std_sampling_dis_sample_props = sqrt((pop_prop_non_veg * (1 - pop_prop_non_veg)) / sample_size)\n",
    "\n",
    "print('Mean of the sampling distribution of sample proportions assuming null hypothesis true is {0}'.format(mean_sampling_dis_sample_props))\n",
    "print('Std deviation of sampling distribution of sample proportions assuming null hypothesis true is\\\n",
    "    {0}'.format(std_sampling_dis_sample_props))"
   ]
  },
  {
   "cell_type": "code",
   "execution_count": 12,
   "metadata": {},
   "outputs": [
    {
     "name": "stdout",
     "output_type": "stream",
     "text": [
      "From one of the above samples the seen prop of students liking non veg is 0.56\n"
     ]
    }
   ],
   "source": [
    "# Ha - alternative hypothesis - pop_prop_non_veg > 0.43\n",
    "seen_prop_non_veg = 28 / sample_size\n",
    "alpha = 0.05\n",
    "print('From one of the above samples the seen prop of students liking non veg is {0}'.format(seen_prop_non_veg))"
   ]
  },
  {
   "cell_type": "code",
   "execution_count": 13,
   "metadata": {},
   "outputs": [
    {
     "name": "stdout",
     "output_type": "stream",
     "text": [
      "P value is 0.03167237132974577\n"
     ]
    }
   ],
   "source": [
    "pvalue = norm.sf(seen_prop_non_veg, loc=mean_sampling_dis_sample_props, scale=std_sampling_dis_sample_props)\n",
    "print('P value is {0}'.format(pvalue))"
   ]
  },
  {
   "cell_type": "code",
   "execution_count": 14,
   "metadata": {},
   "outputs": [
    {
     "name": "stdout",
     "output_type": "stream",
     "text": [
      "We reject the null hypothesis\n"
     ]
    }
   ],
   "source": [
    "print('We reject the null hypothesis') if pvalue < alpha else print('We fail to reject the null hypothesis')"
   ]
  }
 ],
 "metadata": {
  "kernelspec": {
   "display_name": "Python 3",
   "language": "python",
   "name": "python3"
  },
  "language_info": {
   "codemirror_mode": {
    "name": "ipython",
    "version": 3
   },
   "file_extension": ".py",
   "mimetype": "text/x-python",
   "name": "python",
   "nbconvert_exporter": "python",
   "pygments_lexer": "ipython3",
   "version": "3.6.3"
  }
 },
 "nbformat": 4,
 "nbformat_minor": 2
}
