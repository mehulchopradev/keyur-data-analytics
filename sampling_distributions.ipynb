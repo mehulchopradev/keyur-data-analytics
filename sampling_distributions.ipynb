{
 "cells": [
  {
   "cell_type": "markdown",
   "metadata": {},
   "source": [
    "A population census in a state says that 43% of the students are in favour of non-veg being served in the canteen of their educational institutions. One educational institute in that state, draws out a random sample of 50 students and finds that 15% from the sample preferred non-veg being served.\n",
    "What is the probability that more than 15% from the sample would say that they would prefer non-veg being served ?\n"
   ]
  },
  {
   "cell_type": "code",
   "execution_count": 5,
   "metadata": {
    "collapsed": true
   },
   "outputs": [],
   "source": [
    "from math import sqrt\n",
    "from scipy.stats import norm\n",
    "from pandas import Series\n",
    "import matplotlib.pyplot as plt"
   ]
  },
  {
   "cell_type": "code",
   "execution_count": 1,
   "metadata": {},
   "outputs": [
    {
     "name": "stdout",
     "output_type": "stream",
     "text": [
      "True\n"
     ]
    }
   ],
   "source": [
    "p = 0.43\n",
    "n = 50\n",
    "is_sampling_dist_normal = (n * p) >= 10 and (n * (1-p)) >= 10\n",
    "print(is_sampling_dist_normal)"
   ]
  },
  {
   "cell_type": "code",
   "execution_count": 3,
   "metadata": {},
   "outputs": [
    {
     "name": "stdout",
     "output_type": "stream",
     "text": [
      "Mean of the sampling distribution of sample proportions is 0.43\n",
      "Std of the sampling distribution of sample proportions is 0.07001428425685718\n"
     ]
    }
   ],
   "source": [
    "mean_sampling_dist = p\n",
    "std_sampling_dist = sqrt((p * (1-p)) / n)\n",
    "print('Mean of the sampling distribution of sample proportions is {0}'.format(mean_sampling_dist))\n",
    "print('Std of the sampling distribution of sample proportions is {0}'.format(std_sampling_dist))"
   ]
  },
  {
   "cell_type": "code",
   "execution_count": 6,
   "metadata": {},
   "outputs": [
    {
     "data": {
      "image/png": "[encoded data removed]",
      "text/plain": [
       "<matplotlib.figure.Figure at 0x7f11c02964e0>"
      ]
     },
     "metadata": {},
     "output_type": "display_data"
    }
   ],
   "source": [
    "data = norm.rvs(loc=mean_sampling_dist, scale=std_sampling_dist, size=1000)\n",
    "s1 = Series(data)\n",
    "s1.plot.kde()\n",
    "plt.show()"
   ]
  },
  {
   "cell_type": "code",
   "execution_count": 9,
   "metadata": {},
   "outputs": [
    {
     "data": {
      "text/plain": [
       "0.99996821936399649"
      ]
     },
     "execution_count": 9,
     "metadata": {},
     "output_type": "execute_result"
    }
   ],
   "source": [
    "norm.sf(x=0.15, loc=mean_sampling_dist, scale=std_sampling_dist)"
   ]
  },
  {
   "cell_type": "markdown",
   "metadata": {},
   "source": [
    "The number of chocolates that people in India have in a week on an average is 3 chocolates with a standard deviation of 2.56 chocolates.\n",
    "What is the probability that the average number of chocolates that a random sample of 12 people have in a week is greater than 4 ? -- cannot calculate\n",
    "What is the probability that the average number of chocolates that a random sample of 50 people have in a week is greater than 4 ?\n"
   ]
  },
  {
   "cell_type": "code",
   "execution_count": 10,
   "metadata": {},
   "outputs": [
    {
     "name": "stdout",
     "output_type": "stream",
     "text": [
      "Mean of the sampling distribution of sample means is 3\n",
      "Std of the sampling distribution of sample means is 0.3620386719675123\n"
     ]
    }
   ],
   "source": [
    "pop_m = 3\n",
    "pop_sd = 2.56\n",
    "n = 50\n",
    "\n",
    "mean_sampling_dist = pop_m\n",
    "std_sampling_dist = pop_sd / sqrt(n)\n",
    "\n",
    "print('Mean of the sampling distribution of sample means is {0}'.format(mean_sampling_dist))\n",
    "print('Std of the sampling distribution of sample means is {0}'.format(std_sampling_dist))"
   ]
  },
  {
   "cell_type": "code",
   "execution_count": 11,
   "metadata": {},
   "outputs": [
    {
     "data": {
      "image/png": "[encoded data removed]",
      "text/plain": [
       "<matplotlib.figure.Figure at 0x7f11b81414a8>"
      ]
     },
     "metadata": {},
     "output_type": "display_data"
    }
   ],
   "source": [
    "data = norm.rvs(loc=mean_sampling_dist, scale=std_sampling_dist, size=1000)\n",
    "s1 = Series(data)\n",
    "s1.plot.kde()\n",
    "plt.show()"
   ]
  },
  {
   "cell_type": "code",
   "execution_count": 15,
   "metadata": {},
   "outputs": [
    {
     "data": {
      "text/plain": [
       "0.0028712288500375108"
      ]
     },
     "execution_count": 15,
     "metadata": {},
     "output_type": "execute_result"
    }
   ],
   "source": [
    "norm.sf(x=4, loc=mean_sampling_dist, scale=std_sampling_dist)"
   ]
  }
 ],
 "metadata": {
  "kernelspec": {
   "display_name": "Python 3",
   "language": "python",
   "name": "python3"
  },
  "language_info": {
   "codemirror_mode": {
    "name": "ipython",
    "version": 3
   },
   "file_extension": ".py",
   "mimetype": "text/x-python",
   "name": "python",
   "nbconvert_exporter": "python",
   "pygments_lexer": "ipython3",
   "version": "3.6.3"
  }
 },
 "nbformat": 4,
 "nbformat_minor": 2
}
