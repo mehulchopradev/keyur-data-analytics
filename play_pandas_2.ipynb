{
 "cells": [
  {
   "cell_type": "code",
   "execution_count": 25,
   "metadata": {
    "collapsed": true
   },
   "outputs": [],
   "source": [
    "import numpy as np\n",
    "from pandas import DataFrame, Series"
   ]
  },
  {
   "cell_type": "code",
   "execution_count": 4,
   "metadata": {},
   "outputs": [
    {
     "data": {
      "text/html": [
       "<div>\n",
       "<style>\n",
       "    .dataframe thead tr:only-child th {\n",
       "        text-align: right;\n",
       "    }\n",
       "\n",
       "    .dataframe thead th {\n",
       "        text-align: left;\n",
       "    }\n",
       "\n",
       "    .dataframe tbody tr th {\n",
       "        vertical-align: top;\n",
       "    }\n",
       "</style>\n",
       "<table border=\"1\" class=\"dataframe\">\n",
       "  <thead>\n",
       "    <tr style=\"text-align: right;\">\n",
       "      <th></th>\n",
       "      <th>Chemistry</th>\n",
       "      <th>Name</th>\n",
       "      <th>Physics</th>\n",
       "      <th>Roll</th>\n",
       "    </tr>\n",
       "  </thead>\n",
       "  <tbody>\n",
       "    <tr>\n",
       "      <th>0</th>\n",
       "      <td>99</td>\n",
       "      <td>mehul</td>\n",
       "      <td>95</td>\n",
       "      <td>10</td>\n",
       "    </tr>\n",
       "    <tr>\n",
       "      <th>1</th>\n",
       "      <td>93</td>\n",
       "      <td>keyur</td>\n",
       "      <td>97</td>\n",
       "      <td>11</td>\n",
       "    </tr>\n",
       "    <tr>\n",
       "      <th>2</th>\n",
       "      <td>89</td>\n",
       "      <td>jane</td>\n",
       "      <td>90</td>\n",
       "      <td>23</td>\n",
       "    </tr>\n",
       "  </tbody>\n",
       "</table>\n",
       "</div>"
      ],
      "text/plain": [
       "   Chemistry   Name  Physics  Roll\n",
       "0         99  mehul       95    10\n",
       "1         93  keyur       97    11\n",
       "2         89   jane       90    23"
      ]
     },
     "execution_count": 4,
     "metadata": {},
     "output_type": "execute_result"
    }
   ],
   "source": [
    "marks = {\n",
    "    'Name': ['mehul', 'keyur', 'jane'],\n",
    "    'Roll': [10, 11, 23],\n",
    "    'Physics': [95, 97, 90],\n",
    "    'Chemistry': [99, 93, 89]\n",
    "}\n",
    "df1 = DataFrame(marks)\n",
    "df1"
   ]
  },
  {
   "cell_type": "code",
   "execution_count": 5,
   "metadata": {},
   "outputs": [
    {
     "data": {
      "text/html": [
       "<div>\n",
       "<style>\n",
       "    .dataframe thead tr:only-child th {\n",
       "        text-align: right;\n",
       "    }\n",
       "\n",
       "    .dataframe thead th {\n",
       "        text-align: left;\n",
       "    }\n",
       "\n",
       "    .dataframe tbody tr th {\n",
       "        vertical-align: top;\n",
       "    }\n",
       "</style>\n",
       "<table border=\"1\" class=\"dataframe\">\n",
       "  <thead>\n",
       "    <tr style=\"text-align: right;\">\n",
       "      <th></th>\n",
       "      <th>Chemistry</th>\n",
       "      <th>Name</th>\n",
       "      <th>Physics</th>\n",
       "      <th>Roll</th>\n",
       "    </tr>\n",
       "  </thead>\n",
       "  <tbody>\n",
       "    <tr>\n",
       "      <th>10</th>\n",
       "      <td>99</td>\n",
       "      <td>mehul</td>\n",
       "      <td>95</td>\n",
       "      <td>10</td>\n",
       "    </tr>\n",
       "    <tr>\n",
       "      <th>11</th>\n",
       "      <td>93</td>\n",
       "      <td>keyur</td>\n",
       "      <td>97</td>\n",
       "      <td>11</td>\n",
       "    </tr>\n",
       "    <tr>\n",
       "      <th>23</th>\n",
       "      <td>89</td>\n",
       "      <td>jane</td>\n",
       "      <td>90</td>\n",
       "      <td>23</td>\n",
       "    </tr>\n",
       "  </tbody>\n",
       "</table>\n",
       "</div>"
      ],
      "text/plain": [
       "    Chemistry   Name  Physics  Roll\n",
       "10         99  mehul       95    10\n",
       "11         93  keyur       97    11\n",
       "23         89   jane       90    23"
      ]
     },
     "execution_count": 5,
     "metadata": {},
     "output_type": "execute_result"
    }
   ],
   "source": [
    "df2 = DataFrame(marks, index=marks['Roll'])\n",
    "df2"
   ]
  },
  {
   "cell_type": "code",
   "execution_count": 9,
   "metadata": {},
   "outputs": [
    {
     "name": "stdout",
     "output_type": "stream",
     "text": [
      "Chemistry       93\n",
      "Name         keyur\n",
      "Physics         97\n",
      "Roll            11\n",
      "Name: 11, dtype: object\n",
      "    Chemistry   Name  Physics  Roll\n",
      "10         99  mehul       95    10\n",
      "23         89   jane       90    23\n",
      "Chemistry      89\n",
      "Name         jane\n",
      "Physics        90\n",
      "Roll           23\n",
      "Name: 23, dtype: object\n",
      "    Chemistry   Name  Physics  Roll\n",
      "10         99  mehul       95    10\n",
      "23         89   jane       90    23\n"
     ]
    }
   ],
   "source": [
    "# indexing\n",
    "# indexing by the explicit row index roll number\n",
    "print(df2.loc[11])\n",
    "print(df2.loc[[10, 23]]) # multiple indexing gives another data frame\n",
    "\n",
    "# indexinv by the implicit 0 based indexing\n",
    "print(df2.iloc[-1])\n",
    "print(df2.iloc[[0, -1]])"
   ]
  },
  {
   "cell_type": "code",
   "execution_count": 12,
   "metadata": {},
   "outputs": [
    {
     "name": "stdout",
     "output_type": "stream",
     "text": [
      "    Chemistry   Name  Physics  Roll\n",
      "10         99  mehul       95    10\n",
      "11         93  keyur       97    11\n",
      "23         89   jane       90    23\n",
      "    Physics  Chemistry\n",
      "10       95         99\n",
      "11       97         93\n",
      "23       90         89\n",
      "10    mehul\n",
      "11    keyur\n",
      "23     jane\n",
      "Name: Name, dtype: object\n"
     ]
    }
   ],
   "source": [
    "# column level indexing\n",
    "print(df2)\n",
    "print(df2[['Physics', 'Chemistry']]) # multi column indexing gives u a dataframe\n",
    "print(df2['Name']) # series for single column indexing"
   ]
  },
  {
   "cell_type": "code",
   "execution_count": 15,
   "metadata": {},
   "outputs": [
    {
     "data": {
      "text/html": [
       "<div>\n",
       "<style>\n",
       "    .dataframe thead tr:only-child th {\n",
       "        text-align: right;\n",
       "    }\n",
       "\n",
       "    .dataframe thead th {\n",
       "        text-align: left;\n",
       "    }\n",
       "\n",
       "    .dataframe tbody tr th {\n",
       "        vertical-align: top;\n",
       "    }\n",
       "</style>\n",
       "<table border=\"1\" class=\"dataframe\">\n",
       "  <thead>\n",
       "    <tr style=\"text-align: right;\">\n",
       "      <th></th>\n",
       "      <th>Physics</th>\n",
       "      <th>Chemistry</th>\n",
       "    </tr>\n",
       "  </thead>\n",
       "  <tbody>\n",
       "    <tr>\n",
       "      <th>10</th>\n",
       "      <td>95</td>\n",
       "      <td>99</td>\n",
       "    </tr>\n",
       "    <tr>\n",
       "      <th>23</th>\n",
       "      <td>90</td>\n",
       "      <td>89</td>\n",
       "    </tr>\n",
       "  </tbody>\n",
       "</table>\n",
       "</div>"
      ],
      "text/plain": [
       "    Physics  Chemistry\n",
       "10       95         99\n",
       "23       90         89"
      ]
     },
     "execution_count": 15,
     "metadata": {},
     "output_type": "execute_result"
    }
   ],
   "source": [
    "# row level indexing + column level indexing\n",
    "df3 = df2.iloc[[0, -1]]\n",
    "df4 = df3[['Physics', 'Chemistry']]\n",
    "df4"
   ]
  },
  {
   "cell_type": "code",
   "execution_count": 16,
   "metadata": {},
   "outputs": [
    {
     "data": {
      "text/html": [
       "<div>\n",
       "<style>\n",
       "    .dataframe thead tr:only-child th {\n",
       "        text-align: right;\n",
       "    }\n",
       "\n",
       "    .dataframe thead th {\n",
       "        text-align: left;\n",
       "    }\n",
       "\n",
       "    .dataframe tbody tr th {\n",
       "        vertical-align: top;\n",
       "    }\n",
       "</style>\n",
       "<table border=\"1\" class=\"dataframe\">\n",
       "  <thead>\n",
       "    <tr style=\"text-align: right;\">\n",
       "      <th></th>\n",
       "      <th>Physics</th>\n",
       "      <th>Chemistry</th>\n",
       "    </tr>\n",
       "  </thead>\n",
       "  <tbody>\n",
       "    <tr>\n",
       "      <th>10</th>\n",
       "      <td>95</td>\n",
       "      <td>99</td>\n",
       "    </tr>\n",
       "    <tr>\n",
       "      <th>23</th>\n",
       "      <td>90</td>\n",
       "      <td>89</td>\n",
       "    </tr>\n",
       "  </tbody>\n",
       "</table>\n",
       "</div>"
      ],
      "text/plain": [
       "    Physics  Chemistry\n",
       "10       95         99\n",
       "23       90         89"
      ]
     },
     "execution_count": 16,
     "metadata": {},
     "output_type": "execute_result"
    }
   ],
   "source": [
    "df2.loc[[10, 23], ['Physics', 'Chemistry']]"
   ]
  },
  {
   "cell_type": "code",
   "execution_count": 20,
   "metadata": {},
   "outputs": [
    {
     "name": "stdout",
     "output_type": "stream",
     "text": [
      "    Chemistry   Name  Physics  Roll\n",
      "10         99  mehul       95    10\n",
      "11         93  keyur       97    11\n",
      "23         89   jane       90    23\n",
      "    Chemistry   Name  Physics  Roll\n",
      "10         99  mehul       95    10\n",
      "11         93  keyur       97    11\n",
      "    Chemistry   Name  Physics  Roll\n",
      "11         93  keyur       97    11\n",
      "23         89   jane       90    23\n",
      "    Chemistry   Name  Physics  Roll\n",
      "10         99  mehul       95    10\n",
      "11         93  keyur       97    11\n"
     ]
    }
   ],
   "source": [
    "# slicing\n",
    "print(df2)\n",
    "print(df2.iloc[:2])\n",
    "print(df2.iloc[-2:])\n",
    "print(df2.head(2))"
   ]
  },
  {
   "cell_type": "code",
   "execution_count": 22,
   "metadata": {},
   "outputs": [
    {
     "name": "stdout",
     "output_type": "stream",
     "text": [
      "Int64Index([10, 11, 23], dtype='int64')\n",
      "Index(['Chemistry', 'Name', 'Physics', 'Roll'], dtype='object')\n"
     ]
    }
   ],
   "source": [
    "# get the indexes from the dataframe\n",
    "# row level index\n",
    "print(df2.index) # row level index\n",
    "print(df2.columns) # column level index"
   ]
  },
  {
   "cell_type": "code",
   "execution_count": 27,
   "metadata": {},
   "outputs": [
    {
     "name": "stdout",
     "output_type": "stream",
     "text": [
      "    Chemistry   Name  Physics  Roll\n",
      "10         99  mehul       95    10\n",
      "11         93  keyur       97    11\n",
      "23         89   jane       90    23\n",
      "10    99\n",
      "11    98\n",
      "23    78\n",
      "dtype: int64\n",
      "    Chemistry   Name  Physics  Roll  Maths\n",
      "10         99  mehul       95    10     99\n",
      "11         93  keyur       97    11     98\n",
      "23         89   jane       90    23     78\n"
     ]
    }
   ],
   "source": [
    "print(df2)\n",
    "maths = Series({11: 98, 23: 78, 10: 99})\n",
    "print(maths)\n",
    "# add a new column in a data frame\n",
    "df2['Maths'] = maths # the row index of the data frame is same as the row index of the series (roll numbers)\n",
    "print(df2)"
   ]
  },
  {
   "cell_type": "code",
   "execution_count": 29,
   "metadata": {},
   "outputs": [
    {
     "name": "stdout",
     "output_type": "stream",
     "text": [
      "    Chemistry   Name  Physics  Roll  Maths  Total\n",
      "10         99  mehul       95    10     99    293\n",
      "11         93  keyur       97    11     98    288\n",
      "23         89   jane       90    23     78    257\n",
      "    Chemistry   Name  Physics  Roll  Maths\n",
      "10         99  mehul       95    10     99\n",
      "11         93  keyur       97    11     98\n",
      "23         89   jane       90    23     78\n"
     ]
    }
   ],
   "source": [
    "# add / remove derived columns in a data frame\n",
    "df2['Total'] = df2['Physics'] + df2['Chemistry'] + df2['Maths']\n",
    "print(df2)\n",
    "del df2['Total']\n",
    "print(df2)"
   ]
  },
  {
   "cell_type": "code",
   "execution_count": 37,
   "metadata": {},
   "outputs": [
    {
     "name": "stdout",
     "output_type": "stream",
     "text": [
      "    Chemistry   Name  Physics  Roll  Maths\n",
      "10         99  mehul       95    10     99\n",
      "11         93  keyur       97    11     98\n",
      "23         89   jane       90    23     78\n",
      "    Physics  Chemistry  Maths\n",
      "10       95         99     99\n",
      "11       97         93     98\n",
      "23       90         89     78\n",
      "Physics      94.000000\n",
      "Chemistry    93.666667\n",
      "Maths        91.666667\n",
      "dtype: float64\n",
      "10    293\n",
      "11    288\n",
      "23    257\n",
      "dtype: int64\n"
     ]
    }
   ],
   "source": [
    "# Mathematical operations\n",
    "print(df2)\n",
    "pcm = df2[['Physics', 'Chemistry', 'Maths']]\n",
    "print(pcm)\n",
    "print(pcm.mean(axis=0)) # across rows\n",
    "print(pcm.sum(axis=1)) # across columns"
   ]
  },
  {
   "cell_type": "code",
   "execution_count": 39,
   "metadata": {},
   "outputs": [
    {
     "name": "stdout",
     "output_type": "stream",
     "text": [
      "    Chemistry   Name  Physics  Roll  Maths\n",
      "10         99  mehul       95    10     99\n",
      "11         93  keyur       97    11     98\n",
      "23         89   jane       90    23     78\n",
      "    Quant  Verbal\n",
      "11     89      90\n",
      "23     85      99\n",
      "10     90      89\n"
     ]
    }
   ],
   "source": [
    "print(df2)\n",
    "df5 = DataFrame({\n",
    "    'Verbal': [90, 99, 89],\n",
    "    'Quant': [89, 85, 90]\n",
    "}, index=[11, 23, 10])\n",
    "print(df5)"
   ]
  },
  {
   "cell_type": "code",
   "execution_count": 40,
   "metadata": {},
   "outputs": [
    {
     "data": {
      "text/html": [
       "<div>\n",
       "<style>\n",
       "    .dataframe thead tr:only-child th {\n",
       "        text-align: right;\n",
       "    }\n",
       "\n",
       "    .dataframe thead th {\n",
       "        text-align: left;\n",
       "    }\n",
       "\n",
       "    .dataframe tbody tr th {\n",
       "        vertical-align: top;\n",
       "    }\n",
       "</style>\n",
       "<table border=\"1\" class=\"dataframe\">\n",
       "  <thead>\n",
       "    <tr style=\"text-align: right;\">\n",
       "      <th></th>\n",
       "      <th>Chemistry</th>\n",
       "      <th>Name</th>\n",
       "      <th>Physics</th>\n",
       "      <th>Roll</th>\n",
       "      <th>Maths</th>\n",
       "      <th>Quant</th>\n",
       "      <th>Verbal</th>\n",
       "    </tr>\n",
       "  </thead>\n",
       "  <tbody>\n",
       "    <tr>\n",
       "      <th>10</th>\n",
       "      <td>99</td>\n",
       "      <td>mehul</td>\n",
       "      <td>95</td>\n",
       "      <td>10</td>\n",
       "      <td>99</td>\n",
       "      <td>90</td>\n",
       "      <td>89</td>\n",
       "    </tr>\n",
       "    <tr>\n",
       "      <th>11</th>\n",
       "      <td>93</td>\n",
       "      <td>keyur</td>\n",
       "      <td>97</td>\n",
       "      <td>11</td>\n",
       "      <td>98</td>\n",
       "      <td>89</td>\n",
       "      <td>90</td>\n",
       "    </tr>\n",
       "    <tr>\n",
       "      <th>23</th>\n",
       "      <td>89</td>\n",
       "      <td>jane</td>\n",
       "      <td>90</td>\n",
       "      <td>23</td>\n",
       "      <td>78</td>\n",
       "      <td>85</td>\n",
       "      <td>99</td>\n",
       "    </tr>\n",
       "  </tbody>\n",
       "</table>\n",
       "</div>"
      ],
      "text/plain": [
       "    Chemistry   Name  Physics  Roll  Maths  Quant  Verbal\n",
       "10         99  mehul       95    10     99     90      89\n",
       "11         93  keyur       97    11     98     89      90\n",
       "23         89   jane       90    23     78     85      99"
      ]
     },
     "execution_count": 40,
     "metadata": {},
     "output_type": "execute_result"
    }
   ],
   "source": [
    "df2.join(df5)"
   ]
  },
  {
   "cell_type": "code",
   "execution_count": null,
   "metadata": {
    "collapsed": true
   },
   "outputs": [],
   "source": []
  }
 ],
 "metadata": {
  "kernelspec": {
   "display_name": "Python 3",
   "language": "python",
   "name": "python3"
  },
  "language_info": {
   "codemirror_mode": {
    "name": "ipython",
    "version": 3
   },
   "file_extension": ".py",
   "mimetype": "text/x-python",
   "name": "python",
   "nbconvert_exporter": "python",
   "pygments_lexer": "ipython3",
   "version": "3.6.3"
  }
 },
 "nbformat": 4,
 "nbformat_minor": 2
}
