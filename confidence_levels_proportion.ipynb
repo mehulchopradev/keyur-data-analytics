{
 "cells": [
  {
   "cell_type": "raw",
   "metadata": {},
   "source": [
    "It is observed that some students in a state are in favour of non-veg being served in the canteen of their educational institutions. One educational institute in that state, draws out a random sample of 50 students and finds that 20 from the sample preferred non-veg being served.\n",
    "Build a 99% confidence interval for the proportion of students who felt that non-veg must be served in the canteen?\n"
   ]
  },
  {
   "cell_type": "code",
   "execution_count": 1,
   "metadata": {
    "collapsed": true
   },
   "outputs": [],
   "source": [
    "from scipy.stats import norm\n",
    "from math import sqrt"
   ]
  },
  {
   "cell_type": "code",
   "execution_count": 10,
   "metadata": {},
   "outputs": [
    {
     "name": "stdout",
     "output_type": "stream",
     "text": [
      "0.4\n"
     ]
    }
   ],
   "source": [
    "n = 50\n",
    "sample_proportion_nonveg = 20 / n\n",
    "population = 500\n",
    "print(sample_proportion_nonveg)"
   ]
  },
  {
   "cell_type": "code",
   "execution_count": 6,
   "metadata": {},
   "outputs": [
    {
     "name": "stdout",
     "output_type": "stream",
     "text": [
      "True\n",
      "True\n"
     ]
    }
   ],
   "source": [
    "# They mention the sample to be truly random\n",
    "# Normal condition\n",
    "normal = (n * sample_proportion_nonveg) >= 10 and (n * (1 - sample_proportion_nonveg)) >= 10\n",
    "print(normal)\n",
    "# Independence. Looking at the way data is collected, it is not independent\n",
    "independence = n <= (0.1 * population)\n",
    "print(independence)"
   ]
  },
  {
   "cell_type": "code",
   "execution_count": 8,
   "metadata": {},
   "outputs": [
    {
     "name": "stdout",
     "output_type": "stream",
     "text": [
      "0.06928203230275509\n"
     ]
    }
   ],
   "source": [
    "# standard deviation of the sampling distribution of sample proportion\n",
    "sd = sqrt((sample_proportion_nonveg * (1 - sample_proportion_nonveg)) / n)\n",
    "print(sd)"
   ]
  },
  {
   "cell_type": "code",
   "execution_count": 9,
   "metadata": {},
   "outputs": [
    {
     "name": "stdout",
     "output_type": "stream",
     "text": [
      "0.578458689015\n"
     ]
    }
   ],
   "source": [
    "confidence_level = 0.99\n",
    "ppf_level = 0.995\n",
    "upper_level = norm.ppf(q=ppf_level, loc=sample_proportion_nonveg, scale=sd)\n",
    "print(upper_level)"
   ]
  },
  {
   "cell_type": "code",
   "execution_count": 11,
   "metadata": {},
   "outputs": [
    {
     "name": "stdout",
     "output_type": "stream",
     "text": [
      "0.178458689015\n",
      "0.221541310985\n"
     ]
    }
   ],
   "source": [
    "diff = upper_level - sample_proportion_nonveg\n",
    "lower_level = sample_proportion_nonveg - diff\n",
    "print(diff)\n",
    "print(lower_level)"
   ]
  },
  {
   "cell_type": "code",
   "execution_count": 12,
   "metadata": {},
   "outputs": [
    {
     "name": "stdout",
     "output_type": "stream",
     "text": [
      "Considering 99.0% confidence level of the given sample, the proportion of students expected to like non veg is 0.4 +/- 0.17845868901485806\n"
     ]
    }
   ],
   "source": [
    "print('Considering {0}% confidence level of the given sample, the proportion of students expected to like non veg is {1} +/- {2}'.format(confidence_level * 100, sample_proportion_nonveg, diff))"
   ]
  },
  {
   "cell_type": "code",
   "execution_count": 13,
   "metadata": {},
   "outputs": [
    {
     "name": "stdout",
     "output_type": "stream",
     "text": [
      "Considering 99.0% confidence level of the given sample, the confidence interval of proportion of students expected to like non veg is (0.22154131098514196:0.5784586890148581)\n"
     ]
    }
   ],
   "source": [
    "print('Considering {0}% confidence level of the given sample, the confidence interval of proportion of \\\n",
    "students expected to like non veg is ({1}:{2})'\\\n",
    "      .format(confidence_level * 100, lower_level, upper_level))"
   ]
  }
 ],
 "metadata": {
  "kernelspec": {
   "display_name": "Python 3",
   "language": "python",
   "name": "python3"
  },
  "language_info": {
   "codemirror_mode": {
    "name": "ipython",
    "version": 3
   },
   "file_extension": ".py",
   "mimetype": "text/x-python",
   "name": "python",
   "nbconvert_exporter": "python",
   "pygments_lexer": "ipython3",
   "version": "3.6.3"
  }
 },
 "nbformat": 4,
 "nbformat_minor": 2
}
