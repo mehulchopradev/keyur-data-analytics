{
 "cells": [
  {
   "cell_type": "code",
   "execution_count": 21,
   "metadata": {},
   "outputs": [],
   "source": [
    "from pandas import Series, DataFrame\n",
    "from scipy.stats import norm\n",
    "import matplotlib.pyplot as plt"
   ]
  },
  {
   "cell_type": "markdown",
   "metadata": {},
   "source": [
    "The mean weights of 1 year old babies are normally distributed with a mean of the distribution being at 9.5 kg and a standard deviation of 1.1 kg. What is the `approximate` probability or percentage of babies\n",
    "Whose mean weight is below 8.4 kg\n",
    "Whose mean weight is between 8.4 kg and 10.6 kg\n",
    "Whose mean weight is between 7.3 kg and 11.7 kg\n",
    "Whose mean weight is more than 12.8 kg\n"
   ]
  },
  {
   "cell_type": "code",
   "execution_count": 3,
   "metadata": {},
   "outputs": [
    {
     "data": {
      "text/plain": [
       "array([ 10.23727785,  10.13396771,   9.87756641, ...,  10.38533353,\n",
       "         8.97863413,   9.43392073])"
      ]
     },
     "execution_count": 3,
     "metadata": {},
     "output_type": "execute_result"
    }
   ],
   "source": [
    "m = 9.5\n",
    "s = 1.1\n",
    "data = norm.rvs(loc=m, scale=1.1, size=10000)\n",
    "data"
   ]
  },
  {
   "cell_type": "code",
   "execution_count": 4,
   "metadata": {},
   "outputs": [
    {
     "data": {
      "text/plain": [
       "0       10.237278\n",
       "1       10.133968\n",
       "2        9.877566\n",
       "3        7.973339\n",
       "4       11.083751\n",
       "5        9.533376\n",
       "6       11.249391\n",
       "7       10.927326\n",
       "8        9.417968\n",
       "9        9.004744\n",
       "10       8.507074\n",
       "11       8.662300\n",
       "12      10.579390\n",
       "13       8.934455\n",
       "14       9.313313\n",
       "15       9.283445\n",
       "16      10.236731\n",
       "17       7.310011\n",
       "18       8.550076\n",
       "19       8.970634\n",
       "20       9.495479\n",
       "21      10.657008\n",
       "22       9.702364\n",
       "23      10.662686\n",
       "24      10.594554\n",
       "25      10.271518\n",
       "26       9.949376\n",
       "27      10.232510\n",
       "28      10.803454\n",
       "29      10.738344\n",
       "          ...    \n",
       "9970    10.073929\n",
       "9971     9.354186\n",
       "9972     8.286808\n",
       "9973    10.776590\n",
       "9974     9.503370\n",
       "9975     8.832336\n",
       "9976     9.719362\n",
       "9977     8.614072\n",
       "9978     9.929986\n",
       "9979    11.771723\n",
       "9980     7.890233\n",
       "9981     9.632077\n",
       "9982     8.554302\n",
       "9983     9.969943\n",
       "9984     7.721618\n",
       "9985     9.078601\n",
       "9986     7.632681\n",
       "9987    11.568515\n",
       "9988     9.726936\n",
       "9989    10.250378\n",
       "9990     8.956692\n",
       "9991     9.341032\n",
       "9992     8.033382\n",
       "9993     9.602740\n",
       "9994    10.754498\n",
       "9995     9.467918\n",
       "9996     9.161894\n",
       "9997    10.385334\n",
       "9998     8.978634\n",
       "9999     9.433921\n",
       "Length: 10000, dtype: float64"
      ]
     },
     "execution_count": 4,
     "metadata": {},
     "output_type": "execute_result"
    }
   ],
   "source": [
    "weights = Series(data)\n",
    "weights"
   ]
  },
  {
   "cell_type": "code",
   "execution_count": 5,
   "metadata": {},
   "outputs": [
    {
     "data": {
      "image/png": "[encoded data removed]",
      "text/plain": [
       "<matplotlib.figure.Figure at 0x7f96ba610710>"
      ]
     },
     "metadata": {},
     "output_type": "display_data"
    }
   ],
   "source": [
    "weights.plot.kde()\n",
    "plt.show()"
   ]
  },
  {
   "cell_type": "code",
   "execution_count": 8,
   "metadata": {},
   "outputs": [
    {
     "name": "stdout",
     "output_type": "stream",
     "text": [
      "-1\n",
      "16.0\n"
     ]
    }
   ],
   "source": [
    "# Whose mean weight is below 8.4 kg\n",
    "how_many_stds = (8.4 - m) / s\n",
    "print(round(how_many_stds))\n",
    "area_per = (100 - 68) / 2\n",
    "print(area_per)"
   ]
  },
  {
   "cell_type": "code",
   "execution_count": 9,
   "metadata": {},
   "outputs": [
    {
     "name": "stdout",
     "output_type": "stream",
     "text": [
      "-1\n",
      "1\n"
     ]
    }
   ],
   "source": [
    "# Whose mean weight is between 8.4 kg and 10.6 kg\n",
    "how_many_stds = (8.4 - m) / s\n",
    "print(round(how_many_stds))\n",
    "\n",
    "how_many_stds = (10.6 - m) / s\n",
    "print(round(how_many_stds))"
   ]
  },
  {
   "cell_type": "code",
   "execution_count": 10,
   "metadata": {},
   "outputs": [
    {
     "name": "stdout",
     "output_type": "stream",
     "text": [
      "-2\n",
      "2\n"
     ]
    }
   ],
   "source": [
    "# Whose mean weight is between 7.3 kg and 11.7 kg\n",
    "how_many_stds = (7.3 - m) / s\n",
    "print(round(how_many_stds))\n",
    "\n",
    "how_many_stds = (11.7 - m) / s\n",
    "print(round(how_many_stds))"
   ]
  },
  {
   "cell_type": "code",
   "execution_count": 33,
   "metadata": {},
   "outputs": [
    {
     "name": "stdout",
     "output_type": "stream",
     "text": [
      "3\n",
      "0.14999999999999858\n"
     ]
    }
   ],
   "source": [
    "# Whose mean weight is more than 12.8 kg\n",
    "how_many_stds = (12.8 - m) / s\n",
    "print(round(how_many_stds))\n",
    "area_left = 100 - 99.7\n",
    "print(area_left / 2)"
   ]
  },
  {
   "cell_type": "markdown",
   "metadata": {},
   "source": [
    "Below is the marks scored in a test out of 60 marks. The passing mark for the test is 30 marks. Test was hard and maximum students are going to fail in the test. Professors decide to `standardize` the marks and fail students who are 1 standard deviation below the mean. How many students pass the examination after standardization ?\n",
    "22, 13, 27, 31, 17, 28, 35, 14, 26, 19, 18\n"
   ]
  },
  {
   "cell_type": "code",
   "execution_count": 18,
   "metadata": {},
   "outputs": [
    {
     "data": {
      "image/png": "[encoded data removed]",
      "text/plain": [
       "<matplotlib.figure.Figure at 0x7f96b20b9a20>"
      ]
     },
     "metadata": {},
     "output_type": "display_data"
    }
   ],
   "source": [
    "s2 = Series([22, 13, 27, 31, 17, 28, 35, 14, 26, 19, 18])\n",
    "s2.plot.kde()\n",
    "plt.show()"
   ]
  },
  {
   "cell_type": "code",
   "execution_count": 19,
   "metadata": {},
   "outputs": [
    {
     "data": {
      "text/plain": [
       "9"
      ]
     },
     "execution_count": 19,
     "metadata": {},
     "output_type": "execute_result"
    }
   ],
   "source": [
    "no_fails = s2[s2 < 30].count()\n",
    "no_fails"
   ]
  },
  {
   "cell_type": "code",
   "execution_count": 20,
   "metadata": {},
   "outputs": [
    {
     "name": "stdout",
     "output_type": "stream",
     "text": [
      "22.727272727272727\n",
      "22.0\n"
     ]
    }
   ],
   "source": [
    "print(s2.mean())\n",
    "print(s2.median())"
   ]
  },
  {
   "cell_type": "code",
   "execution_count": 22,
   "metadata": {},
   "outputs": [
    {
     "data": {
      "text/html": [
       "<div>\n",
       "<style>\n",
       "    .dataframe thead tr:only-child th {\n",
       "        text-align: right;\n",
       "    }\n",
       "\n",
       "    .dataframe thead th {\n",
       "        text-align: left;\n",
       "    }\n",
       "\n",
       "    .dataframe tbody tr th {\n",
       "        vertical-align: top;\n",
       "    }\n",
       "</style>\n",
       "<table border=\"1\" class=\"dataframe\">\n",
       "  <thead>\n",
       "    <tr style=\"text-align: right;\">\n",
       "      <th></th>\n",
       "      <th>0</th>\n",
       "    </tr>\n",
       "  </thead>\n",
       "  <tbody>\n",
       "    <tr>\n",
       "      <th>0</th>\n",
       "      <td>22</td>\n",
       "    </tr>\n",
       "    <tr>\n",
       "      <th>1</th>\n",
       "      <td>13</td>\n",
       "    </tr>\n",
       "    <tr>\n",
       "      <th>2</th>\n",
       "      <td>27</td>\n",
       "    </tr>\n",
       "    <tr>\n",
       "      <th>3</th>\n",
       "      <td>31</td>\n",
       "    </tr>\n",
       "    <tr>\n",
       "      <th>4</th>\n",
       "      <td>17</td>\n",
       "    </tr>\n",
       "    <tr>\n",
       "      <th>5</th>\n",
       "      <td>28</td>\n",
       "    </tr>\n",
       "    <tr>\n",
       "      <th>6</th>\n",
       "      <td>35</td>\n",
       "    </tr>\n",
       "    <tr>\n",
       "      <th>7</th>\n",
       "      <td>14</td>\n",
       "    </tr>\n",
       "    <tr>\n",
       "      <th>8</th>\n",
       "      <td>26</td>\n",
       "    </tr>\n",
       "    <tr>\n",
       "      <th>9</th>\n",
       "      <td>19</td>\n",
       "    </tr>\n",
       "    <tr>\n",
       "      <th>10</th>\n",
       "      <td>18</td>\n",
       "    </tr>\n",
       "  </tbody>\n",
       "</table>\n",
       "</div>"
      ],
      "text/plain": [
       "     0\n",
       "0   22\n",
       "1   13\n",
       "2   27\n",
       "3   31\n",
       "4   17\n",
       "5   28\n",
       "6   35\n",
       "7   14\n",
       "8   26\n",
       "9   19\n",
       "10  18"
      ]
     },
     "execution_count": 22,
     "metadata": {},
     "output_type": "execute_result"
    }
   ],
   "source": [
    "d1 = DataFrame(s2)\n",
    "d1"
   ]
  },
  {
   "cell_type": "code",
   "execution_count": 24,
   "metadata": {},
   "outputs": [
    {
     "name": "stdout",
     "output_type": "stream",
     "text": [
      "22.727272727272727\n",
      "7.1845794461597965\n"
     ]
    }
   ],
   "source": [
    "mean = s2.mean()\n",
    "std = s2.std()\n",
    "print(mean)\n",
    "print(std)"
   ]
  },
  {
   "cell_type": "code",
   "execution_count": 25,
   "metadata": {},
   "outputs": [
    {
     "data": {
      "text/html": [
       "<div>\n",
       "<style>\n",
       "    .dataframe thead tr:only-child th {\n",
       "        text-align: right;\n",
       "    }\n",
       "\n",
       "    .dataframe thead th {\n",
       "        text-align: left;\n",
       "    }\n",
       "\n",
       "    .dataframe tbody tr th {\n",
       "        vertical-align: top;\n",
       "    }\n",
       "</style>\n",
       "<table border=\"1\" class=\"dataframe\">\n",
       "  <thead>\n",
       "    <tr style=\"text-align: right;\">\n",
       "      <th></th>\n",
       "      <th>0</th>\n",
       "      <th>z</th>\n",
       "    </tr>\n",
       "  </thead>\n",
       "  <tbody>\n",
       "    <tr>\n",
       "      <th>0</th>\n",
       "      <td>22</td>\n",
       "      <td>-0.101227</td>\n",
       "    </tr>\n",
       "    <tr>\n",
       "      <th>1</th>\n",
       "      <td>13</td>\n",
       "      <td>-1.353910</td>\n",
       "    </tr>\n",
       "    <tr>\n",
       "      <th>2</th>\n",
       "      <td>27</td>\n",
       "      <td>0.594708</td>\n",
       "    </tr>\n",
       "    <tr>\n",
       "      <th>3</th>\n",
       "      <td>31</td>\n",
       "      <td>1.151456</td>\n",
       "    </tr>\n",
       "    <tr>\n",
       "      <th>4</th>\n",
       "      <td>17</td>\n",
       "      <td>-0.797162</td>\n",
       "    </tr>\n",
       "    <tr>\n",
       "      <th>5</th>\n",
       "      <td>28</td>\n",
       "      <td>0.733895</td>\n",
       "    </tr>\n",
       "    <tr>\n",
       "      <th>6</th>\n",
       "      <td>35</td>\n",
       "      <td>1.708204</td>\n",
       "    </tr>\n",
       "    <tr>\n",
       "      <th>7</th>\n",
       "      <td>14</td>\n",
       "      <td>-1.214723</td>\n",
       "    </tr>\n",
       "    <tr>\n",
       "      <th>8</th>\n",
       "      <td>26</td>\n",
       "      <td>0.455521</td>\n",
       "    </tr>\n",
       "    <tr>\n",
       "      <th>9</th>\n",
       "      <td>19</td>\n",
       "      <td>-0.518788</td>\n",
       "    </tr>\n",
       "    <tr>\n",
       "      <th>10</th>\n",
       "      <td>18</td>\n",
       "      <td>-0.657975</td>\n",
       "    </tr>\n",
       "  </tbody>\n",
       "</table>\n",
       "</div>"
      ],
      "text/plain": [
       "     0         z\n",
       "0   22 -0.101227\n",
       "1   13 -1.353910\n",
       "2   27  0.594708\n",
       "3   31  1.151456\n",
       "4   17 -0.797162\n",
       "5   28  0.733895\n",
       "6   35  1.708204\n",
       "7   14 -1.214723\n",
       "8   26  0.455521\n",
       "9   19 -0.518788\n",
       "10  18 -0.657975"
      ]
     },
     "execution_count": 25,
     "metadata": {},
     "output_type": "execute_result"
    }
   ],
   "source": [
    "d1['z'] = (d1[0] - mean) / std\n",
    "d1"
   ]
  },
  {
   "cell_type": "code",
   "execution_count": 26,
   "metadata": {},
   "outputs": [
    {
     "data": {
      "image/png": "[encoded data removed]",
      "text/plain": [
       "<matplotlib.figure.Figure at 0x7f96b2008a20>"
      ]
     },
     "metadata": {},
     "output_type": "display_data"
    }
   ],
   "source": [
    "d1['z'].plot.kde()\n",
    "plt.show()"
   ]
  },
  {
   "cell_type": "code",
   "execution_count": 28,
   "metadata": {},
   "outputs": [
    {
     "name": "stdout",
     "output_type": "stream",
     "text": [
      "0\n",
      "1.0\n"
     ]
    }
   ],
   "source": [
    "print(round(d1['z'].mean()))\n",
    "print(d1['z'].std())"
   ]
  },
  {
   "cell_type": "code",
   "execution_count": 29,
   "metadata": {},
   "outputs": [
    {
     "data": {
      "text/plain": [
       "0    -0.101227\n",
       "1    -1.353910\n",
       "2     0.594708\n",
       "3     1.151456\n",
       "4    -0.797162\n",
       "5     0.733895\n",
       "6     1.708204\n",
       "7    -1.214723\n",
       "8     0.455521\n",
       "9    -0.518788\n",
       "10   -0.657975\n",
       "Name: z, dtype: float64"
      ]
     },
     "execution_count": 29,
     "metadata": {},
     "output_type": "execute_result"
    }
   ],
   "source": [
    "s3 = d1['z']\n",
    "s3"
   ]
  },
  {
   "cell_type": "code",
   "execution_count": 30,
   "metadata": {},
   "outputs": [
    {
     "data": {
      "text/plain": [
       "2"
      ]
     },
     "execution_count": 30,
     "metadata": {},
     "output_type": "execute_result"
    }
   ],
   "source": [
    "fails = s3[s3 < -1].count()\n",
    "fails"
   ]
  },
  {
   "cell_type": "markdown",
   "metadata": {},
   "source": [
    "The mean weights of 1 year old babies are normally distributed with a mean of the distribution being at 9.5 kg and a standard deviation of 1.1 kg. What is the `approximate` probability or percentage of babies\n",
    "Whose mean weight is below 11 kgs\n"
   ]
  },
  {
   "cell_type": "code",
   "execution_count": 34,
   "metadata": {},
   "outputs": [
    {
     "data": {
      "text/plain": [
       "0.91365897929062578"
      ]
     },
     "execution_count": 34,
     "metadata": {},
     "output_type": "execute_result"
    }
   ],
   "source": [
    "m = 9.5\n",
    "s = 1.1\n",
    "x = 11\n",
    "\n",
    "norm.cdf(x=x, scale=s, loc=m) # cumulative distribution (cumulative area below 11)"
   ]
  }
 ],
 "metadata": {
  "kernelspec": {
   "display_name": "Python 3",
   "language": "python",
   "name": "python3"
  },
  "language_info": {
   "codemirror_mode": {
    "name": "ipython",
    "version": 3
   },
   "file_extension": ".py",
   "mimetype": "text/x-python",
   "name": "python",
   "nbconvert_exporter": "python",
   "pygments_lexer": "ipython3",
   "version": "3.6.3"
  }
 },
 "nbformat": 4,
 "nbformat_minor": 2
}
