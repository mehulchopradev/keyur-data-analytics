{
 "cells": [
  {
   "cell_type": "code",
   "execution_count": 1,
   "metadata": {
    "collapsed": true
   },
   "outputs": [],
   "source": [
    "import numpy as np"
   ]
  },
  {
   "cell_type": "code",
   "execution_count": 2,
   "metadata": {},
   "outputs": [
    {
     "name": "stdout",
     "output_type": "stream",
     "text": [
      "[[ 91  93 100]\n",
      " [ 96  97  94]\n",
      " [ 99  87  80]]\n",
      "(3, 3)\n",
      "2\n"
     ]
    }
   ],
   "source": [
    "marks = [\n",
    "    [91, 93, 100],\n",
    "    [96, 97, 94],\n",
    "    [99, 87, 80]\n",
    "]\n",
    "n1 = np.array(marks, dtype=np.int16)\n",
    "print(n1)\n",
    "print(n1.shape)\n",
    "print(n1.ndim)"
   ]
  },
  {
   "cell_type": "code",
   "execution_count": 15,
   "metadata": {},
   "outputs": [
    {
     "name": "stdout",
     "output_type": "stream",
     "text": [
      "[99 87 80]\n",
      "87\n",
      "100\n",
      "[[ 91  93 100]\n",
      " [ 99  87  80]]\n",
      "[93 87]\n",
      "[91 99]\n",
      "[100  80]\n"
     ]
    }
   ],
   "source": [
    "# indexing\n",
    "print(n1[-1])\n",
    "print(n1[-1, 1])\n",
    "print(n1[0, -1])\n",
    "# multiple indexing\n",
    "print(n1[[0, -1]])\n",
    "print(n1[[0, -1], 1])\n",
    "n2 = n1[[0, -1]]\n",
    "print(n2[[0, 1], 0])\n",
    "print(n2[[0, 1], -1])"
   ]
  },
  {
   "cell_type": "code",
   "execution_count": 20,
   "metadata": {},
   "outputs": [
    {
     "name": "stdout",
     "output_type": "stream",
     "text": [
      "[[ 91  93 100]\n",
      " [ 96  97  94]\n",
      " [ 99  87  80]]\n",
      "[[ 91  93 100]\n",
      " [ 96  97  94]]\n",
      "[[91 93]\n",
      " [96 97]]\n",
      "[94 80]\n",
      "[[ 93 100]\n",
      " [ 87  80]]\n"
     ]
    }
   ],
   "source": [
    "# slicing\n",
    "print(n1)\n",
    "print(n1[:2])\n",
    "print(n1[:2, :2])\n",
    "print(n1[1:, -1]) # slicing + indexing\n",
    "print(n1[[0, -1], 1:])"
   ]
  },
  {
   "cell_type": "code",
   "execution_count": 24,
   "metadata": {},
   "outputs": [
    {
     "name": "stdout",
     "output_type": "stream",
     "text": [
      "[[ 91  93 100]\n",
      " [ 96  97  94]\n",
      " [ 99  87  80]]\n",
      "[284 287 266]\n",
      "[ 95.33333333  92.33333333  91.33333333]\n"
     ]
    }
   ],
   "source": [
    "print(n1)\n",
    "print(n1.sum(axis=1))\n",
    "print(n1.mean(axis=0))"
   ]
  },
  {
   "cell_type": "code",
   "execution_count": 29,
   "metadata": {},
   "outputs": [
    {
     "name": "stdout",
     "output_type": "stream",
     "text": [
      "[[ 91  93 100]\n",
      " [ 96  97  94]\n",
      " [ 99  87  80]]\n",
      "[[90 92 99]\n",
      " [95 96 93]\n",
      " [98 86 79]]\n",
      "[[ 91  92 100]\n",
      " [ 96  96  94]\n",
      " [ 99  86  80]]\n",
      "[[90 92 99]\n",
      " [96 97 94]\n",
      " [97 85 78]]\n",
      "[[ 90  93 100]\n",
      " [ 96  97  94]\n",
      " [ 97  87  80]]\n"
     ]
    }
   ],
   "source": [
    "print(n1)\n",
    "# Vectorized\n",
    "print(n1-1)\n",
    "print(n1 - [0, 1, 0])\n",
    "print(n1 - [\n",
    "    [1],\n",
    "    [0],\n",
    "    [2]\n",
    "])\n",
    "print(n1 - [\n",
    "    [1, 0, 0],\n",
    "    [0, 0, 0],\n",
    "    [2, 0, 0]\n",
    "])"
   ]
  },
  {
   "cell_type": "code",
   "execution_count": 35,
   "metadata": {},
   "outputs": [
    {
     "name": "stdout",
     "output_type": "stream",
     "text": [
      "[[ 1.  0.  0.]\n",
      " [ 0.  1.  0.]\n",
      " [ 0.  0.  1.]]\n",
      "[[1 2 3]\n",
      " [4 5 6]\n",
      " [7 8 9]]\n",
      "[1 2 3 4 5 6 7 8 9]\n"
     ]
    }
   ],
   "source": [
    "print(np.identity(3))\n",
    "n2 = np.arange(1, 10).reshape(3,3)\n",
    "print(n2)\n",
    "n3 = n2.ravel()\n",
    "print(n3)"
   ]
  },
  {
   "cell_type": "code",
   "execution_count": 37,
   "metadata": {},
   "outputs": [
    {
     "name": "stdout",
     "output_type": "stream",
     "text": [
      "[[4 5]\n",
      " [3 2]]\n",
      "[[1 2]\n",
      " [5 3]]\n"
     ]
    }
   ],
   "source": [
    "n3 = np.array([\n",
    "    [4, 5],\n",
    "    [3, 2]\n",
    "])\n",
    "n4 = np.array([\n",
    "    [1, 2],\n",
    "    [5, 3]\n",
    "])\n",
    "print(n3)\n",
    "print(n4)"
   ]
  },
  {
   "cell_type": "code",
   "execution_count": 41,
   "metadata": {},
   "outputs": [
    {
     "name": "stdout",
     "output_type": "stream",
     "text": [
      "[[5 7]\n",
      " [8 5]]\n",
      "[[ 3  3]\n",
      " [-2 -1]]\n",
      "[[ 4 10]\n",
      " [15  6]]\n",
      "[[29 23]\n",
      " [13 12]]\n"
     ]
    }
   ],
   "source": [
    "print(n3 + n4)\n",
    "print(n3 - n4)\n",
    "print(n3 * n4) # this is not matrix multiplication\n",
    "n5 = np.dot(n3, n4) # true mathematical matrix multiplication\n",
    "print(n5)"
   ]
  }
 ],
 "metadata": {
  "kernelspec": {
   "display_name": "Python 3",
   "language": "python",
   "name": "python3"
  },
  "language_info": {
   "codemirror_mode": {
    "name": "ipython",
    "version": 3
   },
   "file_extension": ".py",
   "mimetype": "text/x-python",
   "name": "python",
   "nbconvert_exporter": "python",
   "pygments_lexer": "ipython3",
   "version": "3.6.3"
  }
 },
 "nbformat": 4,
 "nbformat_minor": 2
}
