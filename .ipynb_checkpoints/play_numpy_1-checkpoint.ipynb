{
 "cells": [
  {
   "cell_type": "code",
   "execution_count": 6,
   "metadata": {},
   "outputs": [
    {
     "name": "stdout",
     "output_type": "stream",
     "text": [
      "Hello World\n",
      "Hello Night\n"
     ]
    }
   ],
   "source": [
    "print('Hello World')\n",
    "print('Hello Night')"
   ]
  },
  {
   "cell_type": "code",
   "execution_count": 7,
   "metadata": {},
   "outputs": [
    {
     "name": "stdout",
     "output_type": "stream",
     "text": [
      "1\n",
      "2\n",
      "3\n",
      "4\n",
      "5\n",
      "6\n",
      "7\n"
     ]
    }
   ],
   "source": [
    "for v in range(1, 8):\n",
    "    print(v)"
   ]
  },
  {
   "cell_type": "code",
   "execution_count": 2,
   "metadata": {
    "collapsed": true
   },
   "outputs": [],
   "source": [
    "import numpy as np"
   ]
  },
  {
   "cell_type": "code",
   "execution_count": 7,
   "metadata": {},
   "outputs": [
    {
     "name": "stdout",
     "output_type": "stream",
     "text": [
      "[ 3  4  5  4  5 10  1  5  6  8 10]\n",
      "<class 'numpy.ndarray'>\n",
      "(11,)\n",
      "1\n",
      "int16\n"
     ]
    }
   ],
   "source": [
    "# ndarray\n",
    "pointers = [3, 4, 5, 4, 5, 10, 1, 5, 6, 8, 10]\n",
    "n1 = np.array(pointers, dtype=np.int16)\n",
    "print(n1)\n",
    "print(type(n1))\n",
    "print(n1.shape)\n",
    "print(n1.ndim)\n",
    "print(n1.dtype)"
   ]
  },
  {
   "cell_type": "code",
   "execution_count": 11,
   "metadata": {},
   "outputs": [
    {
     "name": "stdout",
     "output_type": "stream",
     "text": [
      "3\n",
      "4\n",
      "10\n",
      "6\n",
      "[ 3 10]\n"
     ]
    }
   ],
   "source": [
    "# indexing\n",
    "print(n1[0])\n",
    "print(n1[1])\n",
    "print(n1[-1])\n",
    "print(n1[-3])\n",
    "print(n1[[0, -1]]) # Multiple indexing"
   ]
  },
  {
   "cell_type": "code",
   "execution_count": 8,
   "metadata": {},
   "outputs": [
    {
     "name": "stdout",
     "output_type": "stream",
     "text": [
      "[2 3 4 3 4 9 0 4 5 7 9]\n"
     ]
    }
   ],
   "source": [
    "# Vectorized operations\n",
    "# Get an array of marks from n1, but deducted by 1\n",
    "n2 = n1 - 1\n",
    "print(n2)"
   ]
  },
  {
   "cell_type": "code",
   "execution_count": null,
   "metadata": {
    "collapsed": true
   },
   "outputs": [],
   "source": [
    "# Filtering elements from a numpy array\n",
    "# Get an array of marks from n1, but odds more than or equal 5\n"
   ]
  }
 ],
 "metadata": {
  "kernelspec": {
   "display_name": "Python 3",
   "language": "python",
   "name": "python3"
  },
  "language_info": {
   "codemirror_mode": {
    "name": "ipython",
    "version": 3
   },
   "file_extension": ".py",
   "mimetype": "text/x-python",
   "name": "python",
   "nbconvert_exporter": "python",
   "pygments_lexer": "ipython3",
   "version": "3.6.3"
  }
 },
 "nbformat": 4,
 "nbformat_minor": 2
}
