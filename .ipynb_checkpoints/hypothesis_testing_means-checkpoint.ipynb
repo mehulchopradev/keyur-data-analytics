{
 "cells": [
  {
   "cell_type": "markdown",
   "metadata": {},
   "source": [
    "It has been reported that the mean amount of time it takes for high school students to complete a particular test consisting of riddles is 28 minutes. A random sample of 10 students were taken and they were independently given the same test to solve. The amount of time in minutes was captured and it was observed that the sample data was almost symmetrical around its mean\n",
    "The mean of the sample was 35 minutes and the standard deviation of sample was 1.1 minutes\n",
    "Is there sufficient evidence to conclude that it really takes more than 28 minutes to complete the riddle ? Give statistical justification for your answer\n"
   ]
  },
  {
   "cell_type": "code",
   "execution_count": 2,
   "metadata": {
    "collapsed": true
   },
   "outputs": [],
   "source": [
    "from math import sqrt"
   ]
  },
  {
   "cell_type": "code",
   "execution_count": 1,
   "metadata": {
    "collapsed": true
   },
   "outputs": [],
   "source": [
    "pop_mean = 28"
   ]
  },
  {
   "cell_type": "code",
   "execution_count": 3,
   "metadata": {},
   "outputs": [
    {
     "name": "stdout",
     "output_type": "stream",
     "text": [
      "Mean of the sampling distribution of sample means is 28\n"
     ]
    }
   ],
   "source": [
    "# sampling distribution of sample means\n",
    "sample_size = 10\n",
    "# Ho - null hypothesis - pop_mean = 28\n",
    "# Assume the null hypothesis to be true\n",
    "sampling_distr_sample_means_mean = pop_mean\n",
    "# sampling_distr_sample_means_std = ??? / sqrt(sample_size) // cannot calculate this\n",
    "print('Mean of the sampling distribution of sample means is {0}'.format(sampling_distr_sample_means_mean))"
   ]
  },
  {
   "cell_type": "code",
   "execution_count": null,
   "metadata": {
    "collapsed": true
   },
   "outputs": [],
   "source": [
    "# take a sample from the above distribution\n",
    "seen_sample_mean = 35\n"
   ]
  }
 ],
 "metadata": {
  "kernelspec": {
   "display_name": "Python 3",
   "language": "python",
   "name": "python3"
  },
  "language_info": {
   "codemirror_mode": {
    "name": "ipython",
    "version": 3
   },
   "file_extension": ".py",
   "mimetype": "text/x-python",
   "name": "python",
   "nbconvert_exporter": "python",
   "pygments_lexer": "ipython3",
   "version": "3.6.3"
  }
 },
 "nbformat": 4,
 "nbformat_minor": 2
}
