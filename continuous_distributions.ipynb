{
 "cells": [
  {
   "cell_type": "code",
   "execution_count": 2,
   "metadata": {
    "collapsed": true
   },
   "outputs": [],
   "source": [
    "from pandas import Series\n",
    "import matplotlib.pyplot as plt"
   ]
  },
  {
   "cell_type": "markdown",
   "metadata": {},
   "source": [
    "For a random variable X = the height of students in a class, below is the probability data already created. The height measuring instruments have their limitations in terms of measuring the precise height. So a height measurement of 6.0 feet does not imply that it is the exact and the actual height may be 6.000023 or 5.9999845\n",
    "5 - 0.1, 5.2 - 0.2, 5.5 - 0.4, 6.0 - 0.2, 6.5 - 0.1, 7.0 - 0.0\n",
    "What is the probability of finding students whose height is in the range 5.75 feet to 7 feet\n",
    "What is the probability of finding students whose height is exactly 5.5 feet\n",
    "What is the probability of finding students whose height is in the range 5 feet to 7 feet\n"
   ]
  },
  {
   "cell_type": "code",
   "execution_count": 3,
   "metadata": {},
   "outputs": [
    {
     "data": {
      "text/plain": [
       "5.0    0.1\n",
       "5.2    0.2\n",
       "5.5    0.4\n",
       "6.0    0.2\n",
       "6.5    0.1\n",
       "7.0    0.0\n",
       "dtype: float64"
      ]
     },
     "execution_count": 3,
     "metadata": {},
     "output_type": "execute_result"
    }
   ],
   "source": [
    "heights = Series([0.1, 0.2, 0.4, 0.2, 0.1, 0.0], index=[5, 5.2, 5.5, 6.0, 6.5, 7.0])\n",
    "heights"
   ]
  },
  {
   "cell_type": "code",
   "execution_count": 6,
   "metadata": {},
   "outputs": [
    {
     "data": {
      "image/png": "[encoded data removed]",
      "text/plain": [
       "<matplotlib.figure.Figure at 0x7f44c9849208>"
      ]
     },
     "metadata": {},
     "output_type": "display_data"
    }
   ],
   "source": [
    "heights.plot(kind='area', grid=True)\n",
    "plt.show()"
   ]
  },
  {
   "cell_type": "code",
   "execution_count": 7,
   "metadata": {},
   "outputs": [
    {
     "data": {
      "text/plain": [
       "0.275"
      ]
     },
     "execution_count": 7,
     "metadata": {},
     "output_type": "execute_result"
    }
   ],
   "source": [
    "area1 = (0.25 * 1.0) / 2\n",
    "area2 = 0.25 * 0.2\n",
    "area3 = (1.0 * 0.2) / 2\n",
    "\n",
    "p1 = area1 + area2 + area3\n",
    "p1"
   ]
  },
  {
   "cell_type": "code",
   "execution_count": 8,
   "metadata": {},
   "outputs": [
    {
     "data": {
      "text/plain": [
       "0.0"
      ]
     },
     "execution_count": 8,
     "metadata": {},
     "output_type": "execute_result"
    }
   ],
   "source": [
    "area = 0.4 * 0\n",
    "p2 = area\n",
    "p2"
   ]
  },
  {
   "cell_type": "code",
   "execution_count": null,
   "metadata": {
    "collapsed": true
   },
   "outputs": [],
   "source": []
  }
 ],
 "metadata": {
  "kernelspec": {
   "display_name": "Python 3",
   "language": "python",
   "name": "python3"
  },
  "language_info": {
   "codemirror_mode": {
    "name": "ipython",
    "version": 3
   },
   "file_extension": ".py",
   "mimetype": "text/x-python",
   "name": "python",
   "nbconvert_exporter": "python",
   "pygments_lexer": "ipython3",
   "version": "3.6.3"
  }
 },
 "nbformat": 4,
 "nbformat_minor": 2
}
