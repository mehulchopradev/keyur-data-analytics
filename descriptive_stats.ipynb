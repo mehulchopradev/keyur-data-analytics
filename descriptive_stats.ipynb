{
 "cells": [
  {
   "cell_type": "code",
   "execution_count": 24,
   "metadata": {
    "collapsed": true
   },
   "outputs": [],
   "source": [
    "from pandas import Series\n",
    "import matplotlib.pyplot as plt\n",
    "import numpy as np"
   ]
  },
  {
   "cell_type": "code",
   "execution_count": 2,
   "metadata": {},
   "outputs": [
    {
     "data": {
      "text/plain": [
       "0      5\n",
       "1      6\n",
       "2      3\n",
       "3      8\n",
       "4     10\n",
       "5      6\n",
       "6      8\n",
       "7      1\n",
       "8      5\n",
       "9      7\n",
       "10     3\n",
       "11     4\n",
       "12     9\n",
       "13     4\n",
       "14     3\n",
       "15     3\n",
       "16     5\n",
       "dtype: int64"
      ]
     },
     "execution_count": 2,
     "metadata": {},
     "output_type": "execute_result"
    }
   ],
   "source": [
    "s1 = Series([5, 6, 3, 8, 10, 6, 8, 1, 5, 7, 3, 4, 9, 4, 3, 3, 5])\n",
    "s1"
   ]
  },
  {
   "cell_type": "code",
   "execution_count": 3,
   "metadata": {},
   "outputs": [
    {
     "name": "stdout",
     "output_type": "stream",
     "text": [
      "5.294117647058823\n",
      "5.0\n",
      "0    3\n",
      "dtype: int64\n"
     ]
    }
   ],
   "source": [
    "print(s1.mean())\n",
    "print(s1.median())\n",
    "print(s1.mode())"
   ]
  },
  {
   "cell_type": "code",
   "execution_count": 4,
   "metadata": {},
   "outputs": [
    {
     "name": "stdout",
     "output_type": "stream",
     "text": [
      "9\n"
     ]
    }
   ],
   "source": [
    "print(s1.max() - s1.min())"
   ]
  },
  {
   "cell_type": "code",
   "execution_count": 5,
   "metadata": {},
   "outputs": [
    {
     "data": {
      "text/plain": [
       "3     4\n",
       "5     3\n",
       "8     2\n",
       "6     2\n",
       "4     2\n",
       "10    1\n",
       "9     1\n",
       "7     1\n",
       "1     1\n",
       "dtype: int64"
      ]
     },
     "execution_count": 5,
     "metadata": {},
     "output_type": "execute_result"
    }
   ],
   "source": [
    "s2 = s1.value_counts()\n",
    "s2"
   ]
  },
  {
   "cell_type": "code",
   "execution_count": 6,
   "metadata": {},
   "outputs": [
    {
     "data": {
      "image/png": "[encoded data removed]",
      "text/plain": [
       "<matplotlib.figure.Figure at 0x7f835035be10>"
      ]
     },
     "metadata": {},
     "output_type": "display_data"
    }
   ],
   "source": [
    "s1.hist(bins=100)\n",
    "plt.show()"
   ]
  },
  {
   "cell_type": "code",
   "execution_count": 7,
   "metadata": {},
   "outputs": [
    {
     "data": {
      "text/plain": [
       "0     12000\n",
       "1     12500\n",
       "2     15000\n",
       "3     13000\n",
       "4     12000\n",
       "5     20000\n",
       "6     12500\n",
       "7     80000\n",
       "8     13000\n",
       "9     13000\n",
       "10    15500\n",
       "11    16000\n",
       "12    95000\n",
       "dtype: int64"
      ]
     },
     "execution_count": 7,
     "metadata": {},
     "output_type": "execute_result"
    }
   ],
   "source": [
    "s3 = Series([12000, 12500, 15000, 13000, 12000, 20000, 12500, 80000, 13000, 13000, 15500, 16000, 95000])\n",
    "s3"
   ]
  },
  {
   "cell_type": "code",
   "execution_count": 8,
   "metadata": {},
   "outputs": [
    {
     "name": "stdout",
     "output_type": "stream",
     "text": [
      "25346.153846153848\n",
      "13000.0\n",
      "0    13000\n",
      "dtype: int64\n"
     ]
    }
   ],
   "source": [
    "print(s3.mean())\n",
    "print(s3.median())\n",
    "print(s3.mode())"
   ]
  },
  {
   "cell_type": "code",
   "execution_count": 9,
   "metadata": {},
   "outputs": [
    {
     "name": "stdout",
     "output_type": "stream",
     "text": [
      "83000\n"
     ]
    }
   ],
   "source": [
    "print(s3.max() - s3.min())"
   ]
  },
  {
   "cell_type": "code",
   "execution_count": 10,
   "metadata": {},
   "outputs": [
    {
     "data": {
      "image/png": "[encoded data removed]",
      "text/plain": [
       "<matplotlib.figure.Figure at 0x7f8322cfd780>"
      ]
     },
     "metadata": {},
     "output_type": "display_data"
    }
   ],
   "source": [
    "s3.hist(bins=100)\n",
    "plt.show()"
   ]
  },
  {
   "cell_type": "code",
   "execution_count": 11,
   "metadata": {
    "scrolled": false
   },
   "outputs": [
    {
     "name": "stdout",
     "output_type": "stream",
     "text": [
      "0     12000\n",
      "4     12000\n",
      "1     12500\n",
      "6     12500\n",
      "3     13000\n",
      "8     13000\n",
      "9     13000\n",
      "2     15000\n",
      "10    15500\n",
      "11    16000\n",
      "5     20000\n",
      "7     80000\n",
      "12    95000\n",
      "dtype: int64\n",
      "0.25    12500.0\n",
      "0.50    13000.0\n",
      "0.75    16000.0\n",
      "dtype: float64\n"
     ]
    },
    {
     "data": {
      "text/plain": [
       "3500.0"
      ]
     },
     "execution_count": 11,
     "metadata": {},
     "output_type": "execute_result"
    }
   ],
   "source": [
    "s4 = s3.sort_values()\n",
    "s5 = s4.quantile([0.25, 0.50, 0.75])\n",
    "print(s4)\n",
    "print(s5)\n",
    "q1, q3 = s5[0.25], s5[0.75]\n",
    "iqr = q3 - q1\n",
    "iqr"
   ]
  },
  {
   "cell_type": "code",
   "execution_count": null,
   "metadata": {
    "collapsed": true
   },
   "outputs": [],
   "source": [
    "# Outlier treatment using IQR\n",
    "# IQR of the data - Q1, Q3 - Q3 - Q1 = iqr\n",
    "# 1.5iqr rule\n",
    "# lower bound = Q1 - (1.5 iqr)\n",
    "# upper bound = Q3 + (1.5 iqr)\n",
    "# from the original data set take only those values that lie in between the lower bound and upper bound (including both of them)"
   ]
  },
  {
   "cell_type": "code",
   "execution_count": 13,
   "metadata": {},
   "outputs": [
    {
     "name": "stdout",
     "output_type": "stream",
     "text": [
      "7250.0 21250.0\n"
     ]
    }
   ],
   "source": [
    "s6 = s3.quantile([0.25, 0.75])\n",
    "q1, q3 = s6[0.25], s6[0.75]\n",
    "iqr = q3 - q1\n",
    "lower = q1 - (1.5 * iqr)\n",
    "upper = q3 + (1.5 * iqr)\n",
    "print(lower, upper)"
   ]
  },
  {
   "cell_type": "code",
   "execution_count": 14,
   "metadata": {},
   "outputs": [
    {
     "data": {
      "text/plain": [
       "0     12000\n",
       "1     12500\n",
       "2     15000\n",
       "3     13000\n",
       "4     12000\n",
       "5     20000\n",
       "6     12500\n",
       "8     13000\n",
       "9     13000\n",
       "10    15500\n",
       "11    16000\n",
       "dtype: int64"
      ]
     },
     "execution_count": 14,
     "metadata": {},
     "output_type": "execute_result"
    }
   ],
   "source": [
    "outlier_treatment_data = s3[(s3 >= lower) & (s3 <= upper)]\n",
    "outlier_treatment_data"
   ]
  },
  {
   "cell_type": "code",
   "execution_count": 15,
   "metadata": {},
   "outputs": [
    {
     "name": "stdout",
     "output_type": "stream",
     "text": [
      "14045.454545454546\n",
      "13000.0\n"
     ]
    }
   ],
   "source": [
    "print(outlier_treatment_data.mean())\n",
    "print(outlier_treatment_data.median())"
   ]
  },
  {
   "cell_type": "code",
   "execution_count": 16,
   "metadata": {},
   "outputs": [
    {
     "data": {
      "text/plain": [
       "0      5\n",
       "1      6\n",
       "2      3\n",
       "3      8\n",
       "4     10\n",
       "5      6\n",
       "6      8\n",
       "7      1\n",
       "8      5\n",
       "9      7\n",
       "10     3\n",
       "11     4\n",
       "12     9\n",
       "13     4\n",
       "14     3\n",
       "15     3\n",
       "dtype: int64"
      ]
     },
     "execution_count": 16,
     "metadata": {},
     "output_type": "execute_result"
    }
   ],
   "source": [
    "a = Series([5, 6, 3, 8, 10, 6, 8, 1, 5, 7, 3, 4, 9, 4, 3, 3, ])\n",
    "a"
   ]
  },
  {
   "cell_type": "code",
   "execution_count": 17,
   "metadata": {},
   "outputs": [
    {
     "data": {
      "text/plain": [
       "0     5.0\n",
       "1     6.0\n",
       "2     4.0\n",
       "3     5.5\n",
       "4     6.0\n",
       "5     6.0\n",
       "6     4.5\n",
       "7     4.0\n",
       "8     5.0\n",
       "9     5.0\n",
       "10    6.0\n",
       "11    5.5\n",
       "12    6.0\n",
       "13    4.5\n",
       "14    4.0\n",
       "15    4.0\n",
       "16    5.0\n",
       "dtype: float64"
      ]
     },
     "execution_count": 17,
     "metadata": {},
     "output_type": "execute_result"
    }
   ],
   "source": [
    "b = Series([5, 6, 4, 5.5, 6, 6, 4.5, 4, 5, 5, 6, 5.5, 6, 4.5, 4, 4, 5])\n",
    "b"
   ]
  },
  {
   "cell_type": "code",
   "execution_count": 20,
   "metadata": {},
   "outputs": [
    {
     "name": "stdout",
     "output_type": "stream",
     "text": [
      "5.3125\n",
      "5.0588235294117645\n"
     ]
    }
   ],
   "source": [
    "print(a.mean())\n",
    "print(b.mean())"
   ]
  },
  {
   "cell_type": "code",
   "execution_count": 19,
   "metadata": {},
   "outputs": [
    {
     "data": {
      "image/png": "[encoded data removed]",
      "text/plain": [
       "<matplotlib.figure.Figure at 0x7f832299eef0>"
      ]
     },
     "metadata": {},
     "output_type": "display_data"
    }
   ],
   "source": [
    "a.hist(bins=100)\n",
    "plt.show()"
   ]
  },
  {
   "cell_type": "code",
   "execution_count": 25,
   "metadata": {},
   "outputs": [
    {
     "data": {
      "image/png": "[encoded data removed]",
      "text/plain": [
       "<matplotlib.figure.Figure at 0x7f8321fbd748>"
      ]
     },
     "metadata": {},
     "output_type": "display_data"
    }
   ],
   "source": [
    "b.hist(bins=100)\n",
    "plt.xticks(np.arange(0, 10, step=2))\n",
    "plt.show()"
   ]
  },
  {
   "cell_type": "code",
   "execution_count": 26,
   "metadata": {},
   "outputs": [
    {
     "name": "stdout",
     "output_type": "stream",
     "text": [
      "2.548692475237712\n",
      "0.7882407813680822\n"
     ]
    }
   ],
   "source": [
    "# Sample standard deviation\n",
    "# degree of freedom ( N - 1)\n",
    "print(a.std())\n",
    "print(b.std())"
   ]
  },
  {
   "cell_type": "code",
   "execution_count": 27,
   "metadata": {},
   "outputs": [
    {
     "name": "stdout",
     "output_type": "stream",
     "text": [
      "2.4677608777999542\n",
      "0.7647058823529411\n"
     ]
    }
   ],
   "source": [
    "# Population standard deviation\n",
    "# degrees of freedom N - 0\n",
    "print(a.std(ddof=0))\n",
    "print(b.std(ddof=0))"
   ]
  }
 ],
 "metadata": {
  "kernelspec": {
   "display_name": "Python 3",
   "language": "python",
   "name": "python3"
  },
  "language_info": {
   "codemirror_mode": {
    "name": "ipython",
    "version": 3
   },
   "file_extension": ".py",
   "mimetype": "text/x-python",
   "name": "python",
   "nbconvert_exporter": "python",
   "pygments_lexer": "ipython3",
   "version": "3.6.3"
  }
 },
 "nbformat": 4,
 "nbformat_minor": 2
}
