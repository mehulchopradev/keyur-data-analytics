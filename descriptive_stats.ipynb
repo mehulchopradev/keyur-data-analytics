{
 "cells": [
  {
   "cell_type": "code",
   "execution_count": 1,
   "metadata": {
    "collapsed": true
   },
   "outputs": [],
   "source": [
    "from pandas import Series\n",
    "import matplotlib.pyplot as plt"
   ]
  },
  {
   "cell_type": "code",
   "execution_count": 2,
   "metadata": {},
   "outputs": [
    {
     "data": {
      "text/plain": [
       "0      5\n",
       "1      6\n",
       "2      3\n",
       "3      8\n",
       "4     10\n",
       "5      6\n",
       "6      8\n",
       "7      1\n",
       "8      5\n",
       "9      7\n",
       "10     3\n",
       "11     4\n",
       "12     9\n",
       "13     4\n",
       "14     3\n",
       "15     3\n",
       "16     5\n",
       "dtype: int64"
      ]
     },
     "execution_count": 2,
     "metadata": {},
     "output_type": "execute_result"
    }
   ],
   "source": [
    "s1 = Series([5, 6, 3, 8, 10, 6, 8, 1, 5, 7, 3, 4, 9, 4, 3, 3, 5])\n",
    "s1"
   ]
  },
  {
   "cell_type": "code",
   "execution_count": 13,
   "metadata": {},
   "outputs": [
    {
     "name": "stdout",
     "output_type": "stream",
     "text": [
      "5.294117647058823\n",
      "5.0\n",
      "0    3\n",
      "dtype: int64\n"
     ]
    }
   ],
   "source": [
    "print(s1.mean())\n",
    "print(s1.median())\n",
    "print(s1.mode())"
   ]
  },
  {
   "cell_type": "code",
   "execution_count": 15,
   "metadata": {},
   "outputs": [
    {
     "name": "stdout",
     "output_type": "stream",
     "text": [
      "9\n"
     ]
    }
   ],
   "source": [
    "print(s1.max() - s1.min())"
   ]
  },
  {
   "cell_type": "code",
   "execution_count": 4,
   "metadata": {},
   "outputs": [
    {
     "data": {
      "text/plain": [
       "3     4\n",
       "5     3\n",
       "8     2\n",
       "6     2\n",
       "4     2\n",
       "10    1\n",
       "9     1\n",
       "7     1\n",
       "1     1\n",
       "dtype: int64"
      ]
     },
     "execution_count": 4,
     "metadata": {},
     "output_type": "execute_result"
    }
   ],
   "source": [
    "s2 = s1.value_counts()\n",
    "s2"
   ]
  },
  {
   "cell_type": "code",
   "execution_count": 7,
   "metadata": {},
   "outputs": [
    {
     "data": {
      "image/png": "[encoded data removed]",
      "text/plain": [
       "<matplotlib.figure.Figure at 0x7fb5d7f8bcf8>"
      ]
     },
     "metadata": {},
     "output_type": "display_data"
    }
   ],
   "source": [
    "s1.hist(bins=100)\n",
    "plt.show()"
   ]
  },
  {
   "cell_type": "code",
   "execution_count": 9,
   "metadata": {},
   "outputs": [
    {
     "data": {
      "text/plain": [
       "0     12000\n",
       "1     12500\n",
       "2     15000\n",
       "3     13000\n",
       "4     12000\n",
       "5     20000\n",
       "6     12500\n",
       "7     80000\n",
       "8     13000\n",
       "9     13000\n",
       "10    15500\n",
       "11    16000\n",
       "12    95000\n",
       "dtype: int64"
      ]
     },
     "execution_count": 9,
     "metadata": {},
     "output_type": "execute_result"
    }
   ],
   "source": [
    "s3 = Series([12000, 12500, 15000, 13000, 12000, 20000, 12500, 80000, 13000, 13000, 15500, 16000, 95000])\n",
    "s3"
   ]
  },
  {
   "cell_type": "code",
   "execution_count": 14,
   "metadata": {},
   "outputs": [
    {
     "name": "stdout",
     "output_type": "stream",
     "text": [
      "25346.153846153848\n",
      "13000.0\n",
      "0    13000\n",
      "dtype: int64\n"
     ]
    }
   ],
   "source": [
    "print(s3.mean())\n",
    "print(s3.median())\n",
    "print(s3.mode())"
   ]
  },
  {
   "cell_type": "code",
   "execution_count": 16,
   "metadata": {},
   "outputs": [
    {
     "name": "stdout",
     "output_type": "stream",
     "text": [
      "83000\n"
     ]
    }
   ],
   "source": [
    "print(s3.max() - s3.min())"
   ]
  },
  {
   "cell_type": "code",
   "execution_count": 11,
   "metadata": {},
   "outputs": [
    {
     "data": {
      "image/png": "[encoded data removed]",
      "text/plain": [
       "<matplotlib.figure.Figure at 0x7fb5d7dd7d68>"
      ]
     },
     "metadata": {},
     "output_type": "display_data"
    }
   ],
   "source": [
    "s3.hist(bins=100)\n",
    "plt.show()"
   ]
  },
  {
   "cell_type": "code",
   "execution_count": 24,
   "metadata": {
    "scrolled": false
   },
   "outputs": [
    {
     "name": "stdout",
     "output_type": "stream",
     "text": [
      "0     12000\n",
      "4     12000\n",
      "1     12500\n",
      "6     12500\n",
      "3     13000\n",
      "8     13000\n",
      "9     13000\n",
      "2     15000\n",
      "10    15500\n",
      "11    16000\n",
      "5     20000\n",
      "7     80000\n",
      "12    95000\n",
      "dtype: int64\n",
      "0.25    12500.0\n",
      "0.50    13000.0\n",
      "0.75    16000.0\n",
      "dtype: float64\n"
     ]
    },
    {
     "data": {
      "text/plain": [
       "3500.0"
      ]
     },
     "execution_count": 24,
     "metadata": {},
     "output_type": "execute_result"
    }
   ],
   "source": [
    "s4 = s3.sort_values()\n",
    "s5 = s4.quantile([0.25, 0.50, 0.75])\n",
    "print(s4)\n",
    "print(s5)\n",
    "q1, q3 = s5[0.25], s5[0.75]\n",
    "iqr = q3 - q1\n",
    "iqr"
   ]
  }
 ],
 "metadata": {
  "kernelspec": {
   "display_name": "Python 3",
   "language": "python",
   "name": "python3"
  },
  "language_info": {
   "codemirror_mode": {
    "name": "ipython",
    "version": 3
   },
   "file_extension": ".py",
   "mimetype": "text/x-python",
   "name": "python",
   "nbconvert_exporter": "python",
   "pygments_lexer": "ipython3",
   "version": "3.6.3"
  }
 },
 "nbformat": 4,
 "nbformat_minor": 2
}
