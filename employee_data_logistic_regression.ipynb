{
 "cells": [
  {
   "cell_type": "code",
   "execution_count": 97,
   "metadata": {},
   "outputs": [],
   "source": [
    "from pandas import DataFrame\n",
    "import pandas as pd\n",
    "import matplotlib.pyplot as plt\n",
    "from sklearn.model_selection import train_test_split\n",
    "from sklearn.preprocessing import StandardScaler\n",
    "from sklearn.linear_model import LogisticRegression\n",
    "from sklearn.metrics import confusion_matrix, accuracy_score"
   ]
  },
  {
   "cell_type": "code",
   "execution_count": 98,
   "metadata": {},
   "outputs": [],
   "source": [
    "path = '/home/mehul/Documents/training/python/data/employee_data.csv'"
   ]
  },
  {
   "cell_type": "code",
   "execution_count": 99,
   "metadata": {},
   "outputs": [
    {
     "data": {
      "text/html": [
       "<div>\n",
       "<style scoped>\n",
       "    .dataframe tbody tr th:only-of-type {\n",
       "        vertical-align: middle;\n",
       "    }\n",
       "\n",
       "    .dataframe tbody tr th {\n",
       "        vertical-align: top;\n",
       "    }\n",
       "\n",
       "    .dataframe thead th {\n",
       "        text-align: right;\n",
       "    }\n",
       "</style>\n",
       "<table border=\"1\" class=\"dataframe\">\n",
       "  <thead>\n",
       "    <tr style=\"text-align: right;\">\n",
       "      <th></th>\n",
       "      <th>User ID</th>\n",
       "      <th>Gender</th>\n",
       "      <th>Age</th>\n",
       "      <th>EstimatedSalary</th>\n",
       "      <th>Purchased</th>\n",
       "    </tr>\n",
       "  </thead>\n",
       "  <tbody>\n",
       "    <tr>\n",
       "      <th>0</th>\n",
       "      <td>15624510</td>\n",
       "      <td>Male</td>\n",
       "      <td>19</td>\n",
       "      <td>19000</td>\n",
       "      <td>0</td>\n",
       "    </tr>\n",
       "    <tr>\n",
       "      <th>1</th>\n",
       "      <td>15810944</td>\n",
       "      <td>Male</td>\n",
       "      <td>35</td>\n",
       "      <td>20000</td>\n",
       "      <td>0</td>\n",
       "    </tr>\n",
       "    <tr>\n",
       "      <th>2</th>\n",
       "      <td>15668575</td>\n",
       "      <td>Female</td>\n",
       "      <td>26</td>\n",
       "      <td>43000</td>\n",
       "      <td>0</td>\n",
       "    </tr>\n",
       "    <tr>\n",
       "      <th>3</th>\n",
       "      <td>15603246</td>\n",
       "      <td>Female</td>\n",
       "      <td>27</td>\n",
       "      <td>57000</td>\n",
       "      <td>0</td>\n",
       "    </tr>\n",
       "    <tr>\n",
       "      <th>4</th>\n",
       "      <td>15804002</td>\n",
       "      <td>Male</td>\n",
       "      <td>19</td>\n",
       "      <td>76000</td>\n",
       "      <td>0</td>\n",
       "    </tr>\n",
       "    <tr>\n",
       "      <th>...</th>\n",
       "      <td>...</td>\n",
       "      <td>...</td>\n",
       "      <td>...</td>\n",
       "      <td>...</td>\n",
       "      <td>...</td>\n",
       "    </tr>\n",
       "    <tr>\n",
       "      <th>395</th>\n",
       "      <td>15691863</td>\n",
       "      <td>Female</td>\n",
       "      <td>46</td>\n",
       "      <td>41000</td>\n",
       "      <td>1</td>\n",
       "    </tr>\n",
       "    <tr>\n",
       "      <th>396</th>\n",
       "      <td>15706071</td>\n",
       "      <td>Male</td>\n",
       "      <td>51</td>\n",
       "      <td>23000</td>\n",
       "      <td>1</td>\n",
       "    </tr>\n",
       "    <tr>\n",
       "      <th>397</th>\n",
       "      <td>15654296</td>\n",
       "      <td>Female</td>\n",
       "      <td>50</td>\n",
       "      <td>20000</td>\n",
       "      <td>1</td>\n",
       "    </tr>\n",
       "    <tr>\n",
       "      <th>398</th>\n",
       "      <td>15755018</td>\n",
       "      <td>Male</td>\n",
       "      <td>36</td>\n",
       "      <td>33000</td>\n",
       "      <td>0</td>\n",
       "    </tr>\n",
       "    <tr>\n",
       "      <th>399</th>\n",
       "      <td>15594041</td>\n",
       "      <td>Female</td>\n",
       "      <td>49</td>\n",
       "      <td>36000</td>\n",
       "      <td>1</td>\n",
       "    </tr>\n",
       "  </tbody>\n",
       "</table>\n",
       "<p>400 rows × 5 columns</p>\n",
       "</div>"
      ],
      "text/plain": [
       "      User ID  Gender  Age  EstimatedSalary  Purchased\n",
       "0    15624510    Male   19            19000          0\n",
       "1    15810944    Male   35            20000          0\n",
       "2    15668575  Female   26            43000          0\n",
       "3    15603246  Female   27            57000          0\n",
       "4    15804002    Male   19            76000          0\n",
       "..        ...     ...  ...              ...        ...\n",
       "395  15691863  Female   46            41000          1\n",
       "396  15706071    Male   51            23000          1\n",
       "397  15654296  Female   50            20000          1\n",
       "398  15755018    Male   36            33000          0\n",
       "399  15594041  Female   49            36000          1\n",
       "\n",
       "[400 rows x 5 columns]"
      ]
     },
     "execution_count": 99,
     "metadata": {},
     "output_type": "execute_result"
    }
   ],
   "source": [
    "df = pd.read_csv(path)\n",
    "df"
   ]
  },
  {
   "cell_type": "code",
   "execution_count": 100,
   "metadata": {},
   "outputs": [
    {
     "name": "stdout",
     "output_type": "stream",
     "text": [
      "0    257\n",
      "1    143\n",
      "Name: Purchased, dtype: int64\n",
      "Percentage of 0 is 0.6425\n",
      "Percentage of 1 is 0.3575\n"
     ]
    }
   ],
   "source": [
    "s1 = df['Purchased'].value_counts()\n",
    "print(s1)\n",
    "print('Percentage of 0 is {0}'.format(s1.loc[0] / (s1.sum())))\n",
    "print('Percentage of 1 is {0}'.format(s1.loc[1] / (s1.sum())))"
   ]
  },
  {
   "cell_type": "code",
   "execution_count": 101,
   "metadata": {},
   "outputs": [],
   "source": [
    "x = df[['Age', 'EstimatedSalary']].values\n",
    "y = df['Purchased'].values"
   ]
  },
  {
   "cell_type": "code",
   "execution_count": 102,
   "metadata": {},
   "outputs": [],
   "source": [
    "# the above label has imbalanced classes\n",
    "# we use smote to do the oversampling of the minority class\n",
    "from imblearn.over_sampling import SMOTE"
   ]
  },
  {
   "cell_type": "code",
   "execution_count": 103,
   "metadata": {},
   "outputs": [],
   "source": [
    "smote = SMOTE()\n",
    "x_resampled, y_resampled = smote.fit_resample(x, y)"
   ]
  },
  {
   "cell_type": "code",
   "execution_count": 104,
   "metadata": {},
   "outputs": [
    {
     "data": {
      "text/plain": [
       "Counter({0: 257, 1: 257})"
      ]
     },
     "execution_count": 104,
     "metadata": {},
     "output_type": "execute_result"
    }
   ],
   "source": [
    "from collections import Counter\n",
    "counter = Counter(y_resampled)\n",
    "counter"
   ]
  },
  {
   "cell_type": "code",
   "execution_count": 105,
   "metadata": {},
   "outputs": [
    {
     "name": "stdout",
     "output_type": "stream",
     "text": [
      "[[    19  19000]\n",
      " [    35  20000]\n",
      " [    26  43000]\n",
      " ...\n",
      " [    44 142316]\n",
      " [    50 100337]\n",
      " [    56 122000]]\n"
     ]
    }
   ],
   "source": [
    "print(x_resampled)"
   ]
  },
  {
   "cell_type": "code",
   "execution_count": 106,
   "metadata": {},
   "outputs": [
    {
     "data": {
      "text/plain": [
       "array([0, 1])"
      ]
     },
     "execution_count": 106,
     "metadata": {},
     "output_type": "execute_result"
    }
   ],
   "source": [
    "df['Purchased'].unique()\n",
    "# makes it a candidate for classification using Binomial logistic regression"
   ]
  },
  {
   "cell_type": "code",
   "execution_count": 107,
   "metadata": {},
   "outputs": [
    {
     "data": {
      "text/html": [
       "<div>\n",
       "<style scoped>\n",
       "    .dataframe tbody tr th:only-of-type {\n",
       "        vertical-align: middle;\n",
       "    }\n",
       "\n",
       "    .dataframe tbody tr th {\n",
       "        vertical-align: top;\n",
       "    }\n",
       "\n",
       "    .dataframe thead th {\n",
       "        text-align: right;\n",
       "    }\n",
       "</style>\n",
       "<table border=\"1\" class=\"dataframe\">\n",
       "  <thead>\n",
       "    <tr style=\"text-align: right;\">\n",
       "      <th></th>\n",
       "      <th>Age</th>\n",
       "      <th>EstimatedSalary</th>\n",
       "    </tr>\n",
       "  </thead>\n",
       "  <tbody>\n",
       "    <tr>\n",
       "      <th>0</th>\n",
       "      <td>19</td>\n",
       "      <td>19000</td>\n",
       "    </tr>\n",
       "    <tr>\n",
       "      <th>1</th>\n",
       "      <td>35</td>\n",
       "      <td>20000</td>\n",
       "    </tr>\n",
       "    <tr>\n",
       "      <th>2</th>\n",
       "      <td>26</td>\n",
       "      <td>43000</td>\n",
       "    </tr>\n",
       "    <tr>\n",
       "      <th>3</th>\n",
       "      <td>27</td>\n",
       "      <td>57000</td>\n",
       "    </tr>\n",
       "    <tr>\n",
       "      <th>4</th>\n",
       "      <td>19</td>\n",
       "      <td>76000</td>\n",
       "    </tr>\n",
       "    <tr>\n",
       "      <th>...</th>\n",
       "      <td>...</td>\n",
       "      <td>...</td>\n",
       "    </tr>\n",
       "    <tr>\n",
       "      <th>395</th>\n",
       "      <td>46</td>\n",
       "      <td>41000</td>\n",
       "    </tr>\n",
       "    <tr>\n",
       "      <th>396</th>\n",
       "      <td>51</td>\n",
       "      <td>23000</td>\n",
       "    </tr>\n",
       "    <tr>\n",
       "      <th>397</th>\n",
       "      <td>50</td>\n",
       "      <td>20000</td>\n",
       "    </tr>\n",
       "    <tr>\n",
       "      <th>398</th>\n",
       "      <td>36</td>\n",
       "      <td>33000</td>\n",
       "    </tr>\n",
       "    <tr>\n",
       "      <th>399</th>\n",
       "      <td>49</td>\n",
       "      <td>36000</td>\n",
       "    </tr>\n",
       "  </tbody>\n",
       "</table>\n",
       "<p>400 rows × 2 columns</p>\n",
       "</div>"
      ],
      "text/plain": [
       "     Age  EstimatedSalary\n",
       "0     19            19000\n",
       "1     35            20000\n",
       "2     26            43000\n",
       "3     27            57000\n",
       "4     19            76000\n",
       "..   ...              ...\n",
       "395   46            41000\n",
       "396   51            23000\n",
       "397   50            20000\n",
       "398   36            33000\n",
       "399   49            36000\n",
       "\n",
       "[400 rows x 2 columns]"
      ]
     },
     "execution_count": 107,
     "metadata": {},
     "output_type": "execute_result"
    }
   ],
   "source": [
    "x = df[['Age', 'EstimatedSalary']]\n",
    "x"
   ]
  },
  {
   "cell_type": "code",
   "execution_count": 108,
   "metadata": {},
   "outputs": [
    {
     "data": {
      "text/plain": [
       "array([0, 0, 0, 0, 0, 0, 0, 1, 0, 0, 0, 0, 0, 0, 0, 0, 1, 1, 1, 1, 1, 1,\n",
       "       1, 1, 1, 1, 1, 1, 0, 0, 0, 1, 0, 0, 0, 0, 0, 0, 0, 0, 0, 0, 0, 0,\n",
       "       0, 0, 0, 0, 1, 0, 0, 0, 0, 0, 0, 0, 0, 0, 0, 0, 0, 0, 0, 1, 0, 0,\n",
       "       0, 0, 0, 0, 0, 0, 0, 0, 0, 1, 0, 0, 0, 0, 0, 0, 0, 0, 0, 1, 0, 0,\n",
       "       0, 0, 0, 0, 0, 0, 0, 0, 0, 1, 0, 0, 0, 0, 0, 1, 0, 0, 0, 0, 0, 0,\n",
       "       0, 0, 0, 0, 0, 0, 0, 0, 0, 0, 0, 0, 0, 0, 0, 0, 0, 0, 0, 0, 0, 0,\n",
       "       0, 0, 0, 0, 0, 1, 0, 0, 0, 0, 0, 0, 0, 0, 1, 0, 0, 0, 0, 0, 0, 0,\n",
       "       0, 0, 0, 0, 0, 1, 1, 0, 0, 0, 0, 0, 0, 0, 1, 0, 0, 0, 0, 0, 0, 0,\n",
       "       0, 0, 0, 0, 0, 0, 1, 0, 0, 0, 0, 0, 0, 0, 0, 0, 0, 0, 0, 0, 0, 0,\n",
       "       0, 0, 0, 0, 1, 0, 1, 0, 1, 0, 1, 0, 1, 1, 0, 0, 0, 1, 0, 0, 0, 1,\n",
       "       0, 1, 1, 1, 0, 0, 1, 1, 0, 1, 1, 0, 1, 1, 0, 1, 0, 0, 0, 1, 1, 0,\n",
       "       1, 1, 0, 1, 0, 1, 0, 1, 0, 0, 1, 1, 0, 1, 0, 0, 1, 1, 0, 1, 1, 0,\n",
       "       1, 1, 0, 0, 1, 0, 0, 1, 1, 1, 1, 1, 0, 1, 1, 1, 1, 0, 1, 1, 0, 1,\n",
       "       0, 1, 0, 1, 1, 1, 1, 0, 0, 0, 1, 1, 0, 1, 1, 1, 1, 1, 0, 0, 0, 1,\n",
       "       1, 0, 0, 1, 0, 1, 0, 1, 1, 0, 1, 0, 1, 1, 0, 1, 1, 0, 0, 0, 1, 1,\n",
       "       0, 1, 0, 0, 1, 0, 1, 0, 0, 1, 1, 0, 0, 1, 1, 0, 1, 1, 0, 0, 1, 0,\n",
       "       1, 0, 1, 1, 1, 0, 1, 0, 1, 1, 1, 0, 1, 1, 1, 1, 0, 1, 1, 1, 0, 1,\n",
       "       0, 1, 0, 0, 1, 1, 0, 1, 1, 1, 1, 1, 1, 0, 1, 1, 1, 1, 1, 1, 0, 1,\n",
       "       1, 1, 0, 1])"
      ]
     },
     "execution_count": 108,
     "metadata": {},
     "output_type": "execute_result"
    }
   ],
   "source": [
    "y = df['Purchased'].values\n",
    "y"
   ]
  },
  {
   "cell_type": "code",
   "execution_count": 109,
   "metadata": {},
   "outputs": [
    {
     "data": {
      "text/html": [
       "<div>\n",
       "<style scoped>\n",
       "    .dataframe tbody tr th:only-of-type {\n",
       "        vertical-align: middle;\n",
       "    }\n",
       "\n",
       "    .dataframe tbody tr th {\n",
       "        vertical-align: top;\n",
       "    }\n",
       "\n",
       "    .dataframe thead th {\n",
       "        text-align: right;\n",
       "    }\n",
       "</style>\n",
       "<table border=\"1\" class=\"dataframe\">\n",
       "  <thead>\n",
       "    <tr style=\"text-align: right;\">\n",
       "      <th></th>\n",
       "      <th>Age</th>\n",
       "      <th>EstimatedSalary</th>\n",
       "    </tr>\n",
       "  </thead>\n",
       "  <tbody>\n",
       "    <tr>\n",
       "      <th>count</th>\n",
       "      <td>400.000000</td>\n",
       "      <td>400.000000</td>\n",
       "    </tr>\n",
       "    <tr>\n",
       "      <th>mean</th>\n",
       "      <td>37.655000</td>\n",
       "      <td>69742.500000</td>\n",
       "    </tr>\n",
       "    <tr>\n",
       "      <th>std</th>\n",
       "      <td>10.482877</td>\n",
       "      <td>34096.960282</td>\n",
       "    </tr>\n",
       "    <tr>\n",
       "      <th>min</th>\n",
       "      <td>18.000000</td>\n",
       "      <td>15000.000000</td>\n",
       "    </tr>\n",
       "    <tr>\n",
       "      <th>25%</th>\n",
       "      <td>29.750000</td>\n",
       "      <td>43000.000000</td>\n",
       "    </tr>\n",
       "    <tr>\n",
       "      <th>50%</th>\n",
       "      <td>37.000000</td>\n",
       "      <td>70000.000000</td>\n",
       "    </tr>\n",
       "    <tr>\n",
       "      <th>75%</th>\n",
       "      <td>46.000000</td>\n",
       "      <td>88000.000000</td>\n",
       "    </tr>\n",
       "    <tr>\n",
       "      <th>max</th>\n",
       "      <td>60.000000</td>\n",
       "      <td>150000.000000</td>\n",
       "    </tr>\n",
       "  </tbody>\n",
       "</table>\n",
       "</div>"
      ],
      "text/plain": [
       "              Age  EstimatedSalary\n",
       "count  400.000000       400.000000\n",
       "mean    37.655000     69742.500000\n",
       "std     10.482877     34096.960282\n",
       "min     18.000000     15000.000000\n",
       "25%     29.750000     43000.000000\n",
       "50%     37.000000     70000.000000\n",
       "75%     46.000000     88000.000000\n",
       "max     60.000000    150000.000000"
      ]
     },
     "execution_count": 109,
     "metadata": {},
     "output_type": "execute_result"
    }
   ],
   "source": [
    "x.describe()"
   ]
  },
  {
   "cell_type": "code",
   "execution_count": 110,
   "metadata": {},
   "outputs": [
    {
     "data": {
      "text/plain": [
       "array([[    34,  25000],\n",
       "       [    31,  34000],\n",
       "       [    35,  44000],\n",
       "       [    41,  51000],\n",
       "       [    33,  60000],\n",
       "       [    48,  35000],\n",
       "       [    32, 120000],\n",
       "       [    35,  50000],\n",
       "       [    60,  42000],\n",
       "       [    30,  49000],\n",
       "       [    47, 105000],\n",
       "       [    49,  36000],\n",
       "       [    42,  80000],\n",
       "       [    35,  23000],\n",
       "       [    42,  75000],\n",
       "       [    22,  18000],\n",
       "       [    40, 142000],\n",
       "       [    29,  43000],\n",
       "       [    59,  88000],\n",
       "       [    34, 112000],\n",
       "       [    39,  79000],\n",
       "       [    58,  95000],\n",
       "       [    47,  25000],\n",
       "       [    45,  46460],\n",
       "       [    51, 104000],\n",
       "       [    26,  80000],\n",
       "       [    38, 113000],\n",
       "       [    40,  57000],\n",
       "       [    24,  55000],\n",
       "       [    40, 121452],\n",
       "       [    32,  18000],\n",
       "       [    23,  48000],\n",
       "       [    48,  74000],\n",
       "       [    35,  27000],\n",
       "       [    46,  79000],\n",
       "       [    29,  28000],\n",
       "       [    28,  55000],\n",
       "       [    26, 118000],\n",
       "       [    31,  66000],\n",
       "       [    36,  63000],\n",
       "       [    36, 126000],\n",
       "       [    46,  88000],\n",
       "       [    52, 114000],\n",
       "       [    55, 144755],\n",
       "       [    28,  37000],\n",
       "       [    60,  83000],\n",
       "       [    52,  21000],\n",
       "       [    30,  80000],\n",
       "       [    46, 117000],\n",
       "       [    26,  30000],\n",
       "       [    32,  86000],\n",
       "       [    56, 122000],\n",
       "       [    35,  71000],\n",
       "       [    50,  43806],\n",
       "       [    49,  36000],\n",
       "       [    22,  55000],\n",
       "       [    37,  78000],\n",
       "       [    32, 117012],\n",
       "       [    46,  41000],\n",
       "       [    27,  17000],\n",
       "       [    51, 133247],\n",
       "       [    24,  84000],\n",
       "       [    38,  50000],\n",
       "       [    56, 133000],\n",
       "       [    38,  61000],\n",
       "       [    50,  20000],\n",
       "       [    19,  76000],\n",
       "       [    37,  79000],\n",
       "       [    53, 143019],\n",
       "       [    26,  17000],\n",
       "       [    46,  73268],\n",
       "       [    26,  80000],\n",
       "       [    46,  82000],\n",
       "       [    32, 117000],\n",
       "       [    39,  42000],\n",
       "       [    38,  65000],\n",
       "       [    31,  89000],\n",
       "       [    33,  43000],\n",
       "       [    37, 137000],\n",
       "       [    45,  26000],\n",
       "       [    35,  50000],\n",
       "       [    35,  75000],\n",
       "       [    30, 135000],\n",
       "       [    37, 143957],\n",
       "       [    31,  15000],\n",
       "       [    30,  87000],\n",
       "       [    47,  49000],\n",
       "       [    47,  34000],\n",
       "       [    57, 102698],\n",
       "       [    47,  23000],\n",
       "       [    38, 125856],\n",
       "       [    38,  61000],\n",
       "       [    48,  29433],\n",
       "       [    42,  65000],\n",
       "       [    41,  30000],\n",
       "       [    34,  43000],\n",
       "       [    29,  83000],\n",
       "       [    33,  69000],\n",
       "       [    36,  60000],\n",
       "       [    35,  97000],\n",
       "       [    55,  39000],\n",
       "       [    55,  59097],\n",
       "       [    31, 118000],\n",
       "       [    35,  65000],\n",
       "       [    35,  58000],\n",
       "       [    38,  55000],\n",
       "       [    41,  72000],\n",
       "       [    32,  18000],\n",
       "       [    40, 146000],\n",
       "       [    28,  89000],\n",
       "       [    45,  22000],\n",
       "       [    33,  51000],\n",
       "       [    45,  32000],\n",
       "       [    47,  20000],\n",
       "       [    35,  75000],\n",
       "       [    48,  33000],\n",
       "       [    57,  33000],\n",
       "       [    37,  70000],\n",
       "       [    37,  62000],\n",
       "       [    48, 134000],\n",
       "       [    24,  23000],\n",
       "       [    36, 125000],\n",
       "       [    46,  20686],\n",
       "       [    42,  65000],\n",
       "       [    19,  25000],\n",
       "       [    42,  53000],\n",
       "       [    48,  90000],\n",
       "       [    49,  89000],\n",
       "       [    54, 104000],\n",
       "       [    45,  25688],\n",
       "       [    47, 144000],\n",
       "       [    39, 134000],\n",
       "       [    37, 144000],\n",
       "       [    37,  80000],\n",
       "       [    54,  70000],\n",
       "       [    28,  85000],\n",
       "       [    22,  81000],\n",
       "       [    48, 138000],\n",
       "       [    47, 107000],\n",
       "       [    40,  47000],\n",
       "       [    27,  90000],\n",
       "       [    24,  32000],\n",
       "       [    53, 104000],\n",
       "       [    37,  75000],\n",
       "       [    40,  71000],\n",
       "       [    18,  44000],\n",
       "       [    39,  61000],\n",
       "       [    30,  15000],\n",
       "       [    41, 112223],\n",
       "       [    35,  72000],\n",
       "       [    32, 117000],\n",
       "       [    35,  20000],\n",
       "       [    27,  31000],\n",
       "       [    45,  79000],\n",
       "       [    46,  22625],\n",
       "       [    50,  89403],\n",
       "       [    19,  19000],\n",
       "       [    47,  43000],\n",
       "       [    60,  42000],\n",
       "       [    26,  15000],\n",
       "       [    52, 130469],\n",
       "       [    19,  85000],\n",
       "       [    40,  60000],\n",
       "       [    20,  23000],\n",
       "       [    59,  42000],\n",
       "       [    36,  52000],\n",
       "       [    37,  72000],\n",
       "       [    42,  80000],\n",
       "       [    49,  74000],\n",
       "       [    41,  79000],\n",
       "       [    58, 129987],\n",
       "       [    50, 139582],\n",
       "       [    37,  33000],\n",
       "       [    39,  71000],\n",
       "       [    41,  63000],\n",
       "       [    49, 141000],\n",
       "       [    25,  80000],\n",
       "       [    48, 119000],\n",
       "       [    35,  61000],\n",
       "       [    26,  35000],\n",
       "       [    42,  64000],\n",
       "       [    26,  15000],\n",
       "       [    47,  20000],\n",
       "       [    41,  72000],\n",
       "       [    25,  79000],\n",
       "       [    58,  23000],\n",
       "       [    41,  87000],\n",
       "       [    56,  26101],\n",
       "       [    57,  38091],\n",
       "       [    30, 134925],\n",
       "       [    30,  62000],\n",
       "       [    35,  38000],\n",
       "       [    35,  39000],\n",
       "       [    39,  71000],\n",
       "       [    60, 102000],\n",
       "       [    50,  75567],\n",
       "       [    36, 137395],\n",
       "       [    35,  91000],\n",
       "       [    53,  72000],\n",
       "       [    35,  25000],\n",
       "       [    48,  28484],\n",
       "       [    40, 117000],\n",
       "       [    29,  43000],\n",
       "       [    24,  27000],\n",
       "       [    38,  50000],\n",
       "       [    39, 134000],\n",
       "       [    39, 122000],\n",
       "       [    38,  59000],\n",
       "       [    44,  79000],\n",
       "       [    55, 130000],\n",
       "       [    39,  77000],\n",
       "       [    47, 138178],\n",
       "       [    36,  75000],\n",
       "       [    44, 142316],\n",
       "       [    21,  16000],\n",
       "       [    45, 131000],\n",
       "       [    18,  86000],\n",
       "       [    33, 120136],\n",
       "       [    57, 122000],\n",
       "       [    39,  75000],\n",
       "       [    42,  95809],\n",
       "       [    43,  89851],\n",
       "       [    47, 131432],\n",
       "       [    48, 138776],\n",
       "       [    46,  96000],\n",
       "       [    27,  54000],\n",
       "       [    32, 150000],\n",
       "       [    49,  28000],\n",
       "       [    49,  65000],\n",
       "       [    19,  70000],\n",
       "       [    39,  96000],\n",
       "       [    41,  73494],\n",
       "       [    40,  61000],\n",
       "       [    28,  87000],\n",
       "       [    45,  32000],\n",
       "       [    49, 133388],\n",
       "       [    58,  47000],\n",
       "       [    30, 116000],\n",
       "       [    48,  89157],\n",
       "       [    24,  19000],\n",
       "       [    26,  84000],\n",
       "       [    59,  29000],\n",
       "       [    40, 107000],\n",
       "       [    46,  23000],\n",
       "       [    46,  28000],\n",
       "       [    54,  26000],\n",
       "       [    27,  58000],\n",
       "       [    48,  89670],\n",
       "       [    41,  80000],\n",
       "       [    53, 107959],\n",
       "       [    59, 143000],\n",
       "       [    30, 107000],\n",
       "       [    40,  78000],\n",
       "       [    23,  28000],\n",
       "       [    25,  90000],\n",
       "       [    47,  25060],\n",
       "       [    25,  22000],\n",
       "       [    47, 104981],\n",
       "       [    48,  29847],\n",
       "       [    39,  42000],\n",
       "       [    20,  74000],\n",
       "       [    53,  82000],\n",
       "       [    53, 143000],\n",
       "       [    34, 112000],\n",
       "       [    50,  39000],\n",
       "       [    48,  35737],\n",
       "       [    23,  20000],\n",
       "       [    39, 105550],\n",
       "       [    48,  30000],\n",
       "       [    48, 141000],\n",
       "       [    55, 125000],\n",
       "       [    43, 112000],\n",
       "       [    45,  22844],\n",
       "       [    49, 108958],\n",
       "       [    37, 144000],\n",
       "       [    41,  52000],\n",
       "       [    26,  32000],\n",
       "       [    30, 122798],\n",
       "       [    18,  68000],\n",
       "       [    31,  58000],\n",
       "       [    52,  26000],\n",
       "       [    23,  82000],\n",
       "       [    48,  41000],\n",
       "       [    26,  43000],\n",
       "       [    25,  33000],\n",
       "       [    40, 125788],\n",
       "       [    52,  38000],\n",
       "       [    43, 129519],\n",
       "       [    36, 118000],\n",
       "       [    41,  45000],\n",
       "       [    59,  83000],\n",
       "       [    54, 108000],\n",
       "       [    24,  55000],\n",
       "       [    37,  74000],\n",
       "       [    32, 100000],\n",
       "       [    35, 108000],\n",
       "       [    27,  96000],\n",
       "       [    28, 123000],\n",
       "       [    59,  76000],\n",
       "       [    39,  59000],\n",
       "       [    46,  32000],\n",
       "       [    31,  76000],\n",
       "       [    47,  51000],\n",
       "       [    42,  54000],\n",
       "       [    26,  16000],\n",
       "       [    37, 117573],\n",
       "       [    18,  82000],\n",
       "       [    49,  35862],\n",
       "       [    44, 139000],\n",
       "       [    36,  33000],\n",
       "       [    50,  88022],\n",
       "       [    37,  77000],\n",
       "       [    38,  51000],\n",
       "       [    57,  74000],\n",
       "       [    47,  47000],\n",
       "       [    58, 143000],\n",
       "       [    54,  47841],\n",
       "       [    41,  59000],\n",
       "       [    55, 104000],\n",
       "       [    43, 129000],\n",
       "       [    52,  70109],\n",
       "       [    49,  39000],\n",
       "       [    28,  44000],\n",
       "       [    52, 150000],\n",
       "       [    48,  88753],\n",
       "       [    29,  83000],\n",
       "       [    27,  58000],\n",
       "       [    21,  72000],\n",
       "       [    49,  95439],\n",
       "       [    22,  27000],\n",
       "       [    37,  71000],\n",
       "       [    34, 115000],\n",
       "       [    35,  59000],\n",
       "       [    34,  72000],\n",
       "       [    33, 113000],\n",
       "       [    44, 129595],\n",
       "       [    38, 112000],\n",
       "       [    34, 122432],\n",
       "       [    22,  63000],\n",
       "       [    40,  59000],\n",
       "       [    30,  89000],\n",
       "       [    58, 144000],\n",
       "       [    23,  66000],\n",
       "       [    30, 122908],\n",
       "       [    57,  26000],\n",
       "       [    60, 108000],\n",
       "       [    45,  22473],\n",
       "       [    27,  88000],\n",
       "       [    31,  74000],\n",
       "       [    20,  82000],\n",
       "       [    48,  96000],\n",
       "       [    26,  52000],\n",
       "       [    45,  45000],\n",
       "       [    56, 104000],\n",
       "       [    40, 107073],\n",
       "       [    28,  59000],\n",
       "       [    34,  43000],\n",
       "       [    56,  60000],\n",
       "       [    42, 104000],\n",
       "       [    50,  90000],\n",
       "       [    35,  47000],\n",
       "       [    40,  57000],\n",
       "       [    20,  86000],\n",
       "       [    37,  55000],\n",
       "       [    34, 112000],\n",
       "       [    44,  39000],\n",
       "       [    37,  53000],\n",
       "       [    52, 138000],\n",
       "       [    38,  71000],\n",
       "       [    56, 130000],\n",
       "       [    36,  99000],\n",
       "       [    60,  34000],\n",
       "       [    49, 104000],\n",
       "       [    52,  90000],\n",
       "       [    49, 142717],\n",
       "       [    52,  34615],\n",
       "       [    49, 149854],\n",
       "       [    54, 132787],\n",
       "       [    30,  79000],\n",
       "       [    31,  71000],\n",
       "       [    40,  75000],\n",
       "       [    30,  17000],\n",
       "       [    51, 134000],\n",
       "       [    28,  84000],\n",
       "       [    50,  88000],\n",
       "       [    50, 100337],\n",
       "       [    51,  72749],\n",
       "       [    27,  89000],\n",
       "       [    29,  61000],\n",
       "       [    48, 107272],\n",
       "       [    37,  57000],\n",
       "       [    24,  89000],\n",
       "       [    48,  25238],\n",
       "       [    41,  71000],\n",
       "       [    50,  36000],\n",
       "       [    57,  23000],\n",
       "       [    41,  72000],\n",
       "       [    42,  73000],\n",
       "       [    41,  52000],\n",
       "       [    49,  87061],\n",
       "       [    35, 111093],\n",
       "       [    40,  72000],\n",
       "       [    35,  60000],\n",
       "       [    35,  88000],\n",
       "       [    42,  79000],\n",
       "       [    42,  70662],\n",
       "       [    27,  84000],\n",
       "       [    42, 143601],\n",
       "       [    29, 148000],\n",
       "       [    26,  81000],\n",
       "       [    35,  55000]])"
      ]
     },
     "execution_count": 110,
     "metadata": {},
     "output_type": "execute_result"
    }
   ],
   "source": [
    "x_train, x_test, y_train, y_test = train_test_split(x_resampled, y_resampled, test_size=0.2, stratify=y_resampled)\n",
    "x_train"
   ]
  },
  {
   "cell_type": "code",
   "execution_count": 111,
   "metadata": {},
   "outputs": [
    {
     "name": "stdout",
     "output_type": "stream",
     "text": [
      "Counter({1: 206, 0: 205})\n",
      "Percentage of 0 is 0.49878345498783455\n",
      "Percentage of 1 is 0.5012165450121655\n"
     ]
    }
   ],
   "source": [
    "c1 = Counter(y_train)\n",
    "print(c1)\n",
    "print('Percentage of 0 is {0}'.format(c1[0] / (c1[0] + c1[1])))\n",
    "print('Percentage of 1 is {0}'.format(c1[1] / (c1[0] + c1[1])))"
   ]
  },
  {
   "cell_type": "code",
   "execution_count": 112,
   "metadata": {},
   "outputs": [
    {
     "name": "stdout",
     "output_type": "stream",
     "text": [
      "Counter({0: 52, 1: 51})\n",
      "Percentage of 0 is 0.5048543689320388\n",
      "Percentage of 1 is 0.49514563106796117\n"
     ]
    }
   ],
   "source": [
    "c2 = Counter(y_test)\n",
    "print(c2)\n",
    "print('Percentage of 0 is {0}'.format(c2[0] / (c2[0] + c2[1])))\n",
    "print('Percentage of 1 is {0}'.format(c2[1] / (c2[0] + c2[1])))"
   ]
  },
  {
   "cell_type": "code",
   "execution_count": 113,
   "metadata": {},
   "outputs": [],
   "source": [
    "# the age and estimated salary features are out of scale\n",
    "# Standard normalized data\n",
    "scaler = StandardScaler()\n",
    "std_normal_x_train = scaler.fit_transform(x_train)\n",
    "std_normal_x_test = scaler.fit_transform(x_test)"
   ]
  },
  {
   "cell_type": "code",
   "execution_count": 114,
   "metadata": {},
   "outputs": [
    {
     "name": "stdout",
     "output_type": "stream",
     "text": [
      "4.322036105596717e-17\n",
      "1.0\n"
     ]
    }
   ],
   "source": [
    "print(std_normal_x_train.mean())\n",
    "print(std_normal_x_train.std())"
   ]
  },
  {
   "cell_type": "code",
   "execution_count": 115,
   "metadata": {},
   "outputs": [
    {
     "name": "stdout",
     "output_type": "stream",
     "text": [
      "-1.3258003109601383e-16\n",
      "1.0\n"
     ]
    }
   ],
   "source": [
    "print(std_normal_x_test.mean())\n",
    "print(std_normal_x_test.std())"
   ]
  },
  {
   "cell_type": "code",
   "execution_count": 116,
   "metadata": {},
   "outputs": [
    {
     "data": {
      "text/plain": [
       "LogisticRegression(C=1.0, class_weight=None, dual=False, fit_intercept=True,\n",
       "                   intercept_scaling=1, l1_ratio=None, max_iter=100,\n",
       "                   multi_class='auto', n_jobs=None, penalty='l2',\n",
       "                   random_state=None, solver='lbfgs', tol=0.0001, verbose=0,\n",
       "                   warm_start=False)"
      ]
     },
     "execution_count": 116,
     "metadata": {},
     "output_type": "execute_result"
    }
   ],
   "source": [
    "lr1 = LogisticRegression()\n",
    "lr1.fit(std_normal_x_train, y_train)"
   ]
  },
  {
   "cell_type": "code",
   "execution_count": 117,
   "metadata": {},
   "outputs": [
    {
     "data": {
      "text/html": [
       "<div>\n",
       "<style scoped>\n",
       "    .dataframe tbody tr th:only-of-type {\n",
       "        vertical-align: middle;\n",
       "    }\n",
       "\n",
       "    .dataframe tbody tr th {\n",
       "        vertical-align: top;\n",
       "    }\n",
       "\n",
       "    .dataframe thead th {\n",
       "        text-align: right;\n",
       "    }\n",
       "</style>\n",
       "<table border=\"1\" class=\"dataframe\">\n",
       "  <thead>\n",
       "    <tr style=\"text-align: right;\">\n",
       "      <th></th>\n",
       "      <th>Age</th>\n",
       "      <th>EstimatedSalary</th>\n",
       "    </tr>\n",
       "  </thead>\n",
       "  <tbody>\n",
       "    <tr>\n",
       "      <th>0</th>\n",
       "      <td>19</td>\n",
       "      <td>19000</td>\n",
       "    </tr>\n",
       "    <tr>\n",
       "      <th>1</th>\n",
       "      <td>35</td>\n",
       "      <td>20000</td>\n",
       "    </tr>\n",
       "    <tr>\n",
       "      <th>2</th>\n",
       "      <td>26</td>\n",
       "      <td>43000</td>\n",
       "    </tr>\n",
       "    <tr>\n",
       "      <th>3</th>\n",
       "      <td>27</td>\n",
       "      <td>57000</td>\n",
       "    </tr>\n",
       "    <tr>\n",
       "      <th>4</th>\n",
       "      <td>19</td>\n",
       "      <td>76000</td>\n",
       "    </tr>\n",
       "    <tr>\n",
       "      <th>...</th>\n",
       "      <td>...</td>\n",
       "      <td>...</td>\n",
       "    </tr>\n",
       "    <tr>\n",
       "      <th>395</th>\n",
       "      <td>46</td>\n",
       "      <td>41000</td>\n",
       "    </tr>\n",
       "    <tr>\n",
       "      <th>396</th>\n",
       "      <td>51</td>\n",
       "      <td>23000</td>\n",
       "    </tr>\n",
       "    <tr>\n",
       "      <th>397</th>\n",
       "      <td>50</td>\n",
       "      <td>20000</td>\n",
       "    </tr>\n",
       "    <tr>\n",
       "      <th>398</th>\n",
       "      <td>36</td>\n",
       "      <td>33000</td>\n",
       "    </tr>\n",
       "    <tr>\n",
       "      <th>399</th>\n",
       "      <td>49</td>\n",
       "      <td>36000</td>\n",
       "    </tr>\n",
       "  </tbody>\n",
       "</table>\n",
       "<p>400 rows × 2 columns</p>\n",
       "</div>"
      ],
      "text/plain": [
       "     Age  EstimatedSalary\n",
       "0     19            19000\n",
       "1     35            20000\n",
       "2     26            43000\n",
       "3     27            57000\n",
       "4     19            76000\n",
       "..   ...              ...\n",
       "395   46            41000\n",
       "396   51            23000\n",
       "397   50            20000\n",
       "398   36            33000\n",
       "399   49            36000\n",
       "\n",
       "[400 rows x 2 columns]"
      ]
     },
     "execution_count": 117,
     "metadata": {},
     "output_type": "execute_result"
    }
   ],
   "source": [
    "d3 = df[['Age', 'EstimatedSalary']]\n",
    "d3"
   ]
  },
  {
   "cell_type": "code",
   "execution_count": 118,
   "metadata": {},
   "outputs": [
    {
     "data": {
      "text/html": [
       "<div>\n",
       "<style scoped>\n",
       "    .dataframe tbody tr th:only-of-type {\n",
       "        vertical-align: middle;\n",
       "    }\n",
       "\n",
       "    .dataframe tbody tr th {\n",
       "        vertical-align: top;\n",
       "    }\n",
       "\n",
       "    .dataframe thead th {\n",
       "        text-align: right;\n",
       "    }\n",
       "</style>\n",
       "<table border=\"1\" class=\"dataframe\">\n",
       "  <thead>\n",
       "    <tr style=\"text-align: right;\">\n",
       "      <th></th>\n",
       "      <th>Age</th>\n",
       "      <th>EstimatedSalary</th>\n",
       "    </tr>\n",
       "  </thead>\n",
       "  <tbody>\n",
       "    <tr>\n",
       "      <th>Age</th>\n",
       "      <td>1.000000</td>\n",
       "      <td>0.155238</td>\n",
       "    </tr>\n",
       "    <tr>\n",
       "      <th>EstimatedSalary</th>\n",
       "      <td>0.155238</td>\n",
       "      <td>1.000000</td>\n",
       "    </tr>\n",
       "  </tbody>\n",
       "</table>\n",
       "</div>"
      ],
      "text/plain": [
       "                      Age  EstimatedSalary\n",
       "Age              1.000000         0.155238\n",
       "EstimatedSalary  0.155238         1.000000"
      ]
     },
     "execution_count": 118,
     "metadata": {},
     "output_type": "execute_result"
    }
   ],
   "source": [
    "d3.corr()"
   ]
  },
  {
   "cell_type": "code",
   "execution_count": 119,
   "metadata": {},
   "outputs": [
    {
     "data": {
      "image/png": "[encoded data removed]",
      "text/plain": [
       "<Figure size 432x288 with 1 Axes>"
      ]
     },
     "metadata": {
      "needs_background": "light"
     },
     "output_type": "display_data"
    }
   ],
   "source": [
    "d4 = d3.head(10)\n",
    "d4.plot.scatter(x='Age', y='EstimatedSalary')\n",
    "plt.show()"
   ]
  },
  {
   "cell_type": "code",
   "execution_count": 120,
   "metadata": {},
   "outputs": [
    {
     "data": {
      "image/png": "[encoded data removed]",
      "text/plain": [
       "<Figure size 432x288 with 1 Axes>"
      ]
     },
     "metadata": {
      "needs_background": "light"
     },
     "output_type": "display_data"
    }
   ],
   "source": [
    "d3.plot.scatter(x='Age', y='EstimatedSalary')\n",
    "plt.show()"
   ]
  },
  {
   "cell_type": "code",
   "execution_count": 121,
   "metadata": {},
   "outputs": [
    {
     "name": "stdout",
     "output_type": "stream",
     "text": [
      "[[1.1945588  2.10784863]]\n"
     ]
    },
    {
     "data": {
      "text/plain": [
       "array([1])"
      ]
     },
     "execution_count": 121,
     "metadata": {},
     "output_type": "execute_result"
    }
   ],
   "source": [
    "dd = scaler.transform([[52, 150000]])\n",
    "print(dd)\n",
    "lr1.predict(dd)"
   ]
  },
  {
   "cell_type": "code",
   "execution_count": 122,
   "metadata": {},
   "outputs": [
    {
     "name": "stdout",
     "output_type": "stream",
     "text": [
      "[[ 0.8197239  -1.26012422]]\n"
     ]
    },
    {
     "data": {
      "text/plain": [
       "array([1])"
      ]
     },
     "execution_count": 122,
     "metadata": {},
     "output_type": "execute_result"
    }
   ],
   "source": [
    "dd = scaler.transform([[48, 29000]])\n",
    "print(dd)\n",
    "lr1.predict(dd)"
   ]
  },
  {
   "cell_type": "code",
   "execution_count": 123,
   "metadata": {},
   "outputs": [
    {
     "data": {
      "text/html": [
       "<div>\n",
       "<style scoped>\n",
       "    .dataframe tbody tr th:only-of-type {\n",
       "        vertical-align: middle;\n",
       "    }\n",
       "\n",
       "    .dataframe tbody tr th {\n",
       "        vertical-align: top;\n",
       "    }\n",
       "\n",
       "    .dataframe thead th {\n",
       "        text-align: right;\n",
       "    }\n",
       "</style>\n",
       "<table border=\"1\" class=\"dataframe\">\n",
       "  <thead>\n",
       "    <tr style=\"text-align: right;\">\n",
       "      <th></th>\n",
       "      <th>EstimatedSalary</th>\n",
       "    </tr>\n",
       "    <tr>\n",
       "      <th>Age</th>\n",
       "      <th></th>\n",
       "    </tr>\n",
       "  </thead>\n",
       "  <tbody>\n",
       "    <tr>\n",
       "      <th>19</th>\n",
       "      <td>19000</td>\n",
       "    </tr>\n",
       "    <tr>\n",
       "      <th>35</th>\n",
       "      <td>20000</td>\n",
       "    </tr>\n",
       "    <tr>\n",
       "      <th>26</th>\n",
       "      <td>43000</td>\n",
       "    </tr>\n",
       "    <tr>\n",
       "      <th>27</th>\n",
       "      <td>57000</td>\n",
       "    </tr>\n",
       "    <tr>\n",
       "      <th>19</th>\n",
       "      <td>76000</td>\n",
       "    </tr>\n",
       "    <tr>\n",
       "      <th>...</th>\n",
       "      <td>...</td>\n",
       "    </tr>\n",
       "    <tr>\n",
       "      <th>46</th>\n",
       "      <td>41000</td>\n",
       "    </tr>\n",
       "    <tr>\n",
       "      <th>51</th>\n",
       "      <td>23000</td>\n",
       "    </tr>\n",
       "    <tr>\n",
       "      <th>50</th>\n",
       "      <td>20000</td>\n",
       "    </tr>\n",
       "    <tr>\n",
       "      <th>36</th>\n",
       "      <td>33000</td>\n",
       "    </tr>\n",
       "    <tr>\n",
       "      <th>49</th>\n",
       "      <td>36000</td>\n",
       "    </tr>\n",
       "  </tbody>\n",
       "</table>\n",
       "<p>400 rows × 1 columns</p>\n",
       "</div>"
      ],
      "text/plain": [
       "     EstimatedSalary\n",
       "Age                 \n",
       "19             19000\n",
       "35             20000\n",
       "26             43000\n",
       "27             57000\n",
       "19             76000\n",
       "..               ...\n",
       "46             41000\n",
       "51             23000\n",
       "50             20000\n",
       "36             33000\n",
       "49             36000\n",
       "\n",
       "[400 rows x 1 columns]"
      ]
     },
     "execution_count": 123,
     "metadata": {},
     "output_type": "execute_result"
    }
   ],
   "source": [
    "d5 = DataFrame(d3)\n",
    "d5.index = d5['Age']\n",
    "del d5['Age']\n",
    "d5"
   ]
  },
  {
   "cell_type": "code",
   "execution_count": null,
   "metadata": {},
   "outputs": [],
   "source": []
  },
  {
   "cell_type": "code",
   "execution_count": 124,
   "metadata": {},
   "outputs": [
    {
     "name": "stdout",
     "output_type": "stream",
     "text": [
      "[[    48  29000]\n",
      " [    43 133000]\n",
      " [    40  57000]\n",
      " [    28  32000]\n",
      " [    58  38000]\n",
      " [    35  57000]\n",
      " [    57  60000]\n",
      " [    29  75000]\n",
      " [    23  63000]\n",
      " [    32 135000]\n",
      " [    31  68000]\n",
      " [    27 137000]\n",
      " [    24  58000]\n",
      " [    32  96671]\n",
      " [    60  42438]\n",
      " [    38  80000]\n",
      " [    35  79000]\n",
      " [    36  54000]\n",
      " [    37  80000]\n",
      " [    54 104000]\n",
      " [    33  41000]\n",
      " [    53  34000]\n",
      " [    40  79612]\n",
      " [    59 130000]\n",
      " [    48  33000]\n",
      " [    33 149000]\n",
      " [    35  22000]\n",
      " [    18  52000]\n",
      " [    51 146000]\n",
      " [    35  73000]\n",
      " [    42 108000]\n",
      " [    26  86000]\n",
      " [    27  20000]\n",
      " [    47  30000]\n",
      " [    44  80443]\n",
      " [    39 134000]\n",
      " [    39  73000]\n",
      " [    58 101000]\n",
      " [    60  42000]\n",
      " [    19  26000]\n",
      " [    41  60000]\n",
      " [    46  74000]\n",
      " [    33  31000]\n",
      " [    49  88000]\n",
      " [    48  34819]\n",
      " [    19  21000]\n",
      " [    31 118000]\n",
      " [    48 131000]\n",
      " [    42  54000]\n",
      " [    44 129092]\n",
      " [    21  68000]\n",
      " [    46  22000]\n",
      " [    37  52000]\n",
      " [    40  75000]\n",
      " [    26  72000]\n",
      " [    51  23000]\n",
      " [    50  85500]\n",
      " [    21  88000]\n",
      " [    27  57000]\n",
      " [    51 107610]\n",
      " [    39 106000]\n",
      " [    36 144000]\n",
      " [    29  80000]\n",
      " [    42 149000]\n",
      " [    29  47000]\n",
      " [    20  49000]\n",
      " [    40  65000]\n",
      " [    37 146000]\n",
      " [    38  71000]\n",
      " [    50  44000]\n",
      " [    20  36000]\n",
      " [    48  88000]\n",
      " [    20  82000]\n",
      " [    48 122287]\n",
      " [    46  59000]\n",
      " [    35  77000]\n",
      " [    37  93000]\n",
      " [    45  22000]\n",
      " [    41  72000]\n",
      " [    53  72243]\n",
      " [    45  32000]\n",
      " [    47  50000]\n",
      " [    38 117712]\n",
      " [    42  70000]\n",
      " [    47 113000]\n",
      " [    49  28000]\n",
      " [    33  28000]\n",
      " [    49  86000]\n",
      " [    28  79000]\n",
      " [    37 120401]\n",
      " [    35 147000]\n",
      " [    42  90000]\n",
      " [    35  72000]\n",
      " [    60  46000]\n",
      " [    25  87000]\n",
      " [    35  53000]\n",
      " [    56  73035]\n",
      " [    28  59000]\n",
      " [    45 137729]\n",
      " [    36  50000]\n",
      " [    55  87270]\n",
      " [    48  52159]\n",
      " [    31  18000]]\n"
     ]
    }
   ],
   "source": [
    "print(x_test)"
   ]
  },
  {
   "cell_type": "code",
   "execution_count": 125,
   "metadata": {},
   "outputs": [
    {
     "data": {
      "text/plain": [
       "array([1, 1, 0, 0, 1, 0, 1, 0, 0, 1, 0, 0, 0, 0, 1, 0, 0, 0, 0, 1, 0, 1,\n",
       "       1, 1, 1, 1, 0, 0, 1, 0, 1, 0, 0, 1, 1, 1, 0, 1, 1, 0, 0, 1, 0, 1,\n",
       "       1, 0, 0, 1, 0, 1, 0, 0, 0, 1, 0, 1, 1, 0, 0, 1, 1, 1, 0, 1, 0, 0,\n",
       "       0, 1, 0, 1, 0, 1, 0, 1, 1, 0, 1, 0, 1, 1, 0, 1, 1, 1, 1, 1, 0, 1,\n",
       "       0, 1, 1, 1, 0, 1, 0, 0, 1, 0, 1, 0, 1, 1, 0])"
      ]
     },
     "execution_count": 125,
     "metadata": {},
     "output_type": "execute_result"
    }
   ],
   "source": [
    "y_pred = lr1.predict(std_normal_x_test)\n",
    "y_pred"
   ]
  },
  {
   "cell_type": "code",
   "execution_count": 126,
   "metadata": {},
   "outputs": [
    {
     "data": {
      "text/plain": [
       "array([1, 0, 0, 0, 1, 0, 1, 0, 0, 1, 0, 1, 0, 1, 1, 0, 0, 0, 0, 1, 0, 1,\n",
       "       1, 1, 1, 1, 0, 0, 1, 0, 1, 0, 0, 1, 1, 1, 0, 1, 1, 0, 0, 0, 0, 1,\n",
       "       1, 0, 1, 1, 0, 1, 0, 0, 0, 0, 0, 1, 1, 0, 0, 1, 1, 1, 0, 1, 0, 0,\n",
       "       0, 1, 0, 0, 0, 1, 0, 1, 0, 0, 1, 1, 0, 1, 1, 1, 1, 0, 1, 1, 0, 1,\n",
       "       0, 1, 1, 1, 0, 1, 0, 0, 1, 0, 1, 0, 1, 1, 0])"
      ]
     },
     "execution_count": 126,
     "metadata": {},
     "output_type": "execute_result"
    }
   ],
   "source": [
    "y_test"
   ]
  },
  {
   "cell_type": "code",
   "execution_count": 127,
   "metadata": {},
   "outputs": [
    {
     "data": {
      "text/plain": [
       "103"
      ]
     },
     "execution_count": 127,
     "metadata": {},
     "output_type": "execute_result"
    }
   ],
   "source": [
    "len(y_test)"
   ]
  },
  {
   "cell_type": "code",
   "execution_count": 128,
   "metadata": {},
   "outputs": [
    {
     "data": {
      "text/plain": [
       "array([[45,  7],\n",
       "       [ 5, 46]])"
      ]
     },
     "execution_count": 128,
     "metadata": {},
     "output_type": "execute_result"
    }
   ],
   "source": [
    "# how many right 1's and right 0's\n",
    "confusion_matrix(y_test, y_pred)"
   ]
  },
  {
   "cell_type": "code",
   "execution_count": 129,
   "metadata": {},
   "outputs": [
    {
     "data": {
      "text/plain": [
       "0.883495145631068"
      ]
     },
     "execution_count": 129,
     "metadata": {},
     "output_type": "execute_result"
    }
   ],
   "source": [
    "accuracy_score(y_test, y_pred)"
   ]
  }
 ],
 "metadata": {
  "kernelspec": {
   "display_name": "Python 3",
   "language": "python",
   "name": "python3"
  },
  "language_info": {
   "codemirror_mode": {
    "name": "ipython",
    "version": 3
   },
   "file_extension": ".py",
   "mimetype": "text/x-python",
   "name": "python",
   "nbconvert_exporter": "python",
   "pygments_lexer": "ipython3",
   "version": "3.7.6"
  }
 },
 "nbformat": 4,
 "nbformat_minor": 2
}
