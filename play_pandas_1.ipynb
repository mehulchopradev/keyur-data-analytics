{
 "cells": [
  {
   "cell_type": "code",
   "execution_count": 6,
   "metadata": {
    "collapsed": true
   },
   "outputs": [],
   "source": [
    "import pandas as pd\n",
    "from pandas import Series\n",
    "import numpy as np"
   ]
  },
  {
   "cell_type": "code",
   "execution_count": 7,
   "metadata": {
    "collapsed": true
   },
   "outputs": [],
   "source": [
    "pointers = [4, 5, 5, 10, 4, 3, 8, 8, 3, 9, 10]\n",
    "s1 = Series(pointers, dtype=np.int8)"
   ]
  },
  {
   "cell_type": "code",
   "execution_count": 8,
   "metadata": {},
   "outputs": [
    {
     "data": {
      "text/plain": [
       "0      4\n",
       "1      5\n",
       "2      5\n",
       "3     10\n",
       "4      4\n",
       "5      3\n",
       "6      8\n",
       "7      8\n",
       "8      3\n",
       "9      9\n",
       "10    10\n",
       "dtype: int8"
      ]
     },
     "execution_count": 8,
     "metadata": {},
     "output_type": "execute_result"
    }
   ],
   "source": [
    "s1"
   ]
  },
  {
   "cell_type": "code",
   "execution_count": 9,
   "metadata": {
    "collapsed": true
   },
   "outputs": [],
   "source": [
    "marks = {1: 10, 5: 4, 7: 8, 3: 10, 9: 2}\n",
    "s2 = Series(marks)"
   ]
  },
  {
   "cell_type": "code",
   "execution_count": 10,
   "metadata": {},
   "outputs": [
    {
     "data": {
      "text/plain": [
       "1    10\n",
       "3    10\n",
       "5     4\n",
       "7     8\n",
       "9     2\n",
       "dtype: int64"
      ]
     },
     "execution_count": 10,
     "metadata": {},
     "output_type": "execute_result"
    }
   ],
   "source": [
    "s2"
   ]
  },
  {
   "cell_type": "code",
   "execution_count": 11,
   "metadata": {
    "collapsed": true
   },
   "outputs": [],
   "source": [
    "roll = [3, 1, 7, 9, 10, 12, 23, 33, 30, 29, 6]\n",
    "s3 = Series(pointers, index=roll, dtype=np.int8)"
   ]
  },
  {
   "cell_type": "code",
   "execution_count": 12,
   "metadata": {},
   "outputs": [
    {
     "data": {
      "text/plain": [
       "3      4\n",
       "1      5\n",
       "7      5\n",
       "9     10\n",
       "10     4\n",
       "12     3\n",
       "23     8\n",
       "33     8\n",
       "30     3\n",
       "29     9\n",
       "6     10\n",
       "dtype: int8"
      ]
     },
     "execution_count": 12,
     "metadata": {},
     "output_type": "execute_result"
    }
   ],
   "source": [
    "s3"
   ]
  },
  {
   "cell_type": "code",
   "execution_count": 19,
   "metadata": {},
   "outputs": [
    {
     "name": "stdout",
     "output_type": "stream",
     "text": [
      "8\n",
      "10\n",
      "4\n",
      "9\n",
      "3     4\n",
      "6    10\n",
      "dtype: int8\n",
      "1      5\n",
      "9     10\n",
      "10     4\n",
      "dtype: int8\n"
     ]
    }
   ],
   "source": [
    "# indexing\n",
    "# index in a series by roll number\n",
    "print(s3.loc[33])\n",
    "print(s3.loc[6])\n",
    "\n",
    "# index in a series by implicit 0 based index\n",
    "print(s3.iloc[0])\n",
    "print(s3.iloc[-2])\n",
    "\n",
    "# multiple indexing\n",
    "print(s3.iloc[[0, -1]])\n",
    "print(s3.loc[[1, 9, 10]])"
   ]
  },
  {
   "cell_type": "code",
   "execution_count": 22,
   "metadata": {},
   "outputs": [
    {
     "name": "stdout",
     "output_type": "stream",
     "text": [
      "3    4\n",
      "1    5\n",
      "7    5\n",
      "dtype: int8\n",
      "33     8\n",
      "30     3\n",
      "29     9\n",
      "6     10\n",
      "dtype: int8\n",
      "3    4\n",
      "1    5\n",
      "7    5\n",
      "dtype: int8\n"
     ]
    }
   ],
   "source": [
    "# slicing\n",
    "# slicing by implicit 0 based index\n",
    "print(s3.iloc[:3])\n",
    "print(s3.iloc[-4:])\n",
    "\n",
    "# slicing by the specified roll number index\n",
    "print(s3.loc[3:7]) # here both start and end index are inclusive"
   ]
  },
  {
   "cell_type": "code",
   "execution_count": 26,
   "metadata": {},
   "outputs": [
    {
     "name": "stdout",
     "output_type": "stream",
     "text": [
      "3      4\n",
      "1      5\n",
      "7      5\n",
      "9     10\n",
      "10     4\n",
      "12     3\n",
      "23     8\n",
      "33     8\n",
      "30     3\n",
      "29     9\n",
      "6     10\n",
      "dtype: int8\n",
      "3     4\n",
      "1     5\n",
      "7     5\n",
      "10    4\n",
      "12    3\n",
      "30    3\n",
      "dtype: int8\n",
      "1     5\n",
      "7     5\n",
      "29    9\n",
      "dtype: int8\n"
     ]
    }
   ],
   "source": [
    "# filtering\n",
    "print(s3)\n",
    "print(s3[s3 <= 5])\n",
    "print(s3[(s3 % 2 != 0) & (s3 >= 5)])"
   ]
  },
  {
   "cell_type": "code",
   "execution_count": 28,
   "metadata": {},
   "outputs": [
    {
     "name": "stdout",
     "output_type": "stream",
     "text": [
      "3      4\n",
      "1      5\n",
      "7      5\n",
      "9     10\n",
      "10     4\n",
      "12     3\n",
      "23     8\n",
      "33     8\n",
      "30     3\n",
      "29     9\n",
      "6     10\n",
      "dtype: int8\n",
      "3      4\n",
      "1      5\n",
      "7      5\n",
      "9     10\n",
      "10     1\n",
      "12     3\n",
      "23     8\n",
      "33     8\n",
      "30     3\n",
      "29     9\n",
      "6     10\n",
      "dtype: int8\n"
     ]
    }
   ],
   "source": [
    "# indexing + assignment\n",
    "print(s3)\n",
    "s3.loc[10] = 1 # mutates the original series object\n",
    "print(s3)"
   ]
  },
  {
   "cell_type": "code",
   "execution_count": 31,
   "metadata": {},
   "outputs": [
    {
     "name": "stdout",
     "output_type": "stream",
     "text": [
      "3      4\n",
      "1      5\n",
      "7      5\n",
      "9     10\n",
      "10     1\n",
      "12     3\n",
      "23     8\n",
      "33     8\n",
      "30     3\n",
      "29     9\n",
      "6     10\n",
      "dtype: int8\n",
      "3      4\n",
      "1      5\n",
      "7      5\n",
      "9     10\n",
      "10     1\n",
      "12     3\n",
      "23     8\n",
      "33     8\n",
      "30     2\n",
      "29     8\n",
      "6      9\n",
      "dtype: int8\n"
     ]
    }
   ],
   "source": [
    "# slicing + assignment\n",
    "print(s3)\n",
    "s3.iloc[-3:] -= 1 # mutated the same series object\n",
    "print(s3)"
   ]
  },
  {
   "cell_type": "code",
   "execution_count": 35,
   "metadata": {},
   "outputs": [
    {
     "name": "stdout",
     "output_type": "stream",
     "text": [
      "3      4\n",
      "1      5\n",
      "7      5\n",
      "9     10\n",
      "10     1\n",
      "12     3\n",
      "23     8\n",
      "33     8\n",
      "30     2\n",
      "29     8\n",
      "6      9\n",
      "dtype: int8\n",
      "5.72727272727\n",
      "5.0\n",
      "3.03614588223\n",
      "count    11.000000\n",
      "mean      5.727273\n",
      "std       3.036146\n",
      "min       1.000000\n",
      "25%       3.500000\n",
      "50%       5.000000\n",
      "75%       8.000000\n",
      "max      10.000000\n",
      "dtype: float64\n",
      "5.0\n"
     ]
    }
   ],
   "source": [
    "# Mathematical operations\n",
    "print(s3)\n",
    "print(s3.mean())\n",
    "print(s3.median())\n",
    "print(s3.std())\n",
    "stats = s3.describe()\n",
    "print(stats)\n",
    "print(stats.loc['50%'])"
   ]
  },
  {
   "cell_type": "code",
   "execution_count": 40,
   "metadata": {},
   "outputs": [
    {
     "name": "stdout",
     "output_type": "stream",
     "text": [
      "3      4\n",
      "1      5\n",
      "7      5\n",
      "9     10\n",
      "10     1\n",
      "12     3\n",
      "23     8\n",
      "33     8\n",
      "30     2\n",
      "29     8\n",
      "6      9\n",
      "dtype: int8\n",
      "9     10\n",
      "6      9\n",
      "29     8\n",
      "33     8\n",
      "23     8\n",
      "7      5\n",
      "1      5\n",
      "3      4\n",
      "12     3\n",
      "30     2\n",
      "10     1\n",
      "dtype: int8\n",
      "3      4\n",
      "1      5\n",
      "7      5\n",
      "9     10\n",
      "10     1\n",
      "12     3\n",
      "23     8\n",
      "33     8\n",
      "30     2\n",
      "29     8\n",
      "6      9\n",
      "dtype: int8\n",
      "1      5\n",
      "3      4\n",
      "6      9\n",
      "7      5\n",
      "9     10\n",
      "10     1\n",
      "12     3\n",
      "23     8\n",
      "29     8\n",
      "30     2\n",
      "33     8\n",
      "dtype: int8\n"
     ]
    }
   ],
   "source": [
    "# sorting\n",
    "print(s3)\n",
    "print(s3.sort_values(ascending=False))\n",
    "print(s3)\n",
    "print(s3.sort_index()) # ascending order of the roll number"
   ]
  },
  {
   "cell_type": "code",
   "execution_count": 42,
   "metadata": {},
   "outputs": [
    {
     "name": "stdout",
     "output_type": "stream",
     "text": [
      "3      4\n",
      "1      5\n",
      "7      5\n",
      "9     10\n",
      "10     1\n",
      "12     3\n",
      "23     8\n",
      "33     8\n",
      "30     2\n",
      "29     8\n",
      "6      9\n",
      "dtype: int8\n",
      "8     3\n",
      "5     2\n",
      "10    1\n",
      "9     1\n",
      "4     1\n",
      "3     1\n",
      "2     1\n",
      "1     1\n",
      "dtype: int64\n"
     ]
    }
   ],
   "source": [
    "print(s3)\n",
    "# aggregation\n",
    "# distinct set of marks scrored in the class along with its frequency\n",
    "# Count distinct problem\n",
    "s4 = s3.value_counts()\n",
    "print(s4)"
   ]
  },
  {
   "cell_type": "code",
   "execution_count": 44,
   "metadata": {},
   "outputs": [
    {
     "name": "stdout",
     "output_type": "stream",
     "text": [
      "3      4\n",
      "1      5\n",
      "7      5\n",
      "9     10\n",
      "10     1\n",
      "12     3\n",
      "23     8\n",
      "33     8\n",
      "30     2\n",
      "29     8\n",
      "6      9\n",
      "dtype: int8\n",
      "[ 4  5 10  1  3  8  2  9]\n"
     ]
    }
   ],
   "source": [
    "print(s3)\n",
    "print(s3.unique())"
   ]
  },
  {
   "cell_type": "code",
   "execution_count": 46,
   "metadata": {},
   "outputs": [
    {
     "name": "stdout",
     "output_type": "stream",
     "text": [
      "3      4\n",
      "1      5\n",
      "7      5\n",
      "9     10\n",
      "10     1\n",
      "12     3\n",
      "23     8\n",
      "33     8\n",
      "30     2\n",
      "29     8\n",
      "6      9\n",
      "dtype: int8\n",
      "3     3\n",
      "1     4\n",
      "7     4\n",
      "9     9\n",
      "10    0\n",
      "12    2\n",
      "23    7\n",
      "33    7\n",
      "30    1\n",
      "29    7\n",
      "6     8\n",
      "dtype: int8\n"
     ]
    }
   ],
   "source": [
    "print(s3)\n",
    "deducted_marks = s3 - 1\n",
    "print(deducted_marks)"
   ]
  },
  {
   "cell_type": "code",
   "execution_count": 49,
   "metadata": {},
   "outputs": [
    {
     "name": "stdout",
     "output_type": "stream",
     "text": [
      "3      4\n",
      "1      5\n",
      "7      5\n",
      "9     10\n",
      "10     1\n",
      "12     3\n",
      "23     8\n",
      "33     8\n",
      "30     2\n",
      "29     8\n",
      "6      9\n",
      "dtype: int8\n",
      "10    1\n",
      "33    1\n",
      "29    1\n",
      "dtype: int64\n"
     ]
    }
   ],
   "source": [
    "print(s3)\n",
    "evidence_report = [10, 33, 29]\n",
    "s5 = Series([1, 1, 1], index=evidence_report)\n",
    "print(s5)"
   ]
  },
  {
   "cell_type": "code",
   "execution_count": 51,
   "metadata": {},
   "outputs": [
    {
     "name": "stdout",
     "output_type": "stream",
     "text": [
      "1     NaN\n",
      "3     NaN\n",
      "6     NaN\n",
      "7     NaN\n",
      "9     NaN\n",
      "10    0.0\n",
      "12    NaN\n",
      "23    NaN\n",
      "29    7.0\n",
      "30    NaN\n",
      "33    7.0\n",
      "dtype: float64\n",
      "1      5.0\n",
      "3      4.0\n",
      "6      9.0\n",
      "7      5.0\n",
      "9     10.0\n",
      "10     0.0\n",
      "12     3.0\n",
      "23     8.0\n",
      "29     7.0\n",
      "30     2.0\n",
      "33     7.0\n",
      "dtype: float64\n"
     ]
    }
   ],
   "source": [
    "print(s3 - s5)\n",
    "print(s3.sub(s5, fill_value=0))"
   ]
  },
  {
   "cell_type": "code",
   "execution_count": 54,
   "metadata": {},
   "outputs": [
    {
     "name": "stdout",
     "output_type": "stream",
     "text": [
      "3      4\n",
      "1      5\n",
      "7      5\n",
      "9     10\n",
      "10     1\n",
      "12     3\n",
      "23     8\n",
      "33     8\n",
      "30     2\n",
      "29     8\n",
      "6      9\n",
      "dtype: int8\n",
      "3      4\n",
      "1      5\n",
      "7      5\n",
      "9     10\n",
      "10     1\n",
      "dtype: int8\n",
      "30    2\n",
      "29    8\n",
      "6     9\n",
      "dtype: int8\n"
     ]
    }
   ],
   "source": [
    "print(s3)\n",
    "print(s3.head(5))\n",
    "print(s3.tail(3))"
   ]
  },
  {
   "cell_type": "code",
   "execution_count": 57,
   "metadata": {},
   "outputs": [
    {
     "name": "stdout",
     "output_type": "stream",
     "text": [
      "1     NaN\n",
      "3     NaN\n",
      "6     NaN\n",
      "7     NaN\n",
      "9     NaN\n",
      "10    0.0\n",
      "12    NaN\n",
      "23    NaN\n",
      "29    7.0\n",
      "30    NaN\n",
      "33    7.0\n",
      "dtype: float64\n",
      "10    0.0\n",
      "29    7.0\n",
      "33    7.0\n",
      "dtype: float64\n"
     ]
    }
   ],
   "source": [
    "s6 = s3 - s5\n",
    "print(s6)\n",
    "print(s6.dropna())"
   ]
  },
  {
   "cell_type": "code",
   "execution_count": 60,
   "metadata": {},
   "outputs": [
    {
     "name": "stdout",
     "output_type": "stream",
     "text": [
      "0    23.5\n",
      "1    23.6\n",
      "2    23.5\n",
      "3     NaN\n",
      "4    23.7\n",
      "5    23.4\n",
      "6    23.3\n",
      "dtype: float64\n",
      "0    23.5\n",
      "1    23.6\n",
      "2    23.5\n",
      "3    23.5\n",
      "4    23.7\n",
      "5    23.4\n",
      "6    23.3\n",
      "dtype: float64\n",
      "0    23.5\n",
      "1    23.6\n",
      "2    23.5\n",
      "3    23.7\n",
      "4    23.7\n",
      "5    23.4\n",
      "6    23.3\n",
      "dtype: float64\n"
     ]
    }
   ],
   "source": [
    "s7 = Series([23.5, 23.6, 23.5, None, 23.7, 23.4, 23.3])\n",
    "print(s7)\n",
    "s8 = s7.fillna(method='ffill')\n",
    "print(s8)\n",
    "s9 = s7.fillna(method='bfill')\n",
    "print(s9)"
   ]
  }
 ],
 "metadata": {
  "kernelspec": {
   "display_name": "Python 3",
   "language": "python",
   "name": "python3"
  },
  "language_info": {
   "codemirror_mode": {
    "name": "ipython",
    "version": 3
   },
   "file_extension": ".py",
   "mimetype": "text/x-python",
   "name": "python",
   "nbconvert_exporter": "python",
   "pygments_lexer": "ipython3",
   "version": "3.6.3"
  }
 },
 "nbformat": 4,
 "nbformat_minor": 2
}
