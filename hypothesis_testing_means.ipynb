{
 "cells": [
  {
   "cell_type": "markdown",
   "metadata": {},
   "source": [
    "It has been reported that the mean amount of time it takes for high school students to complete a particular test consisting of riddles is 28 minutes. A random sample of 10 students were taken and they were independently given the same test to solve. The amount of time in minutes was captured and it was observed that the sample data was almost symmetrical around its mean\n",
    "The mean of the sample was 35 minutes and the standard deviation of sample was 1.1 minutes\n",
    "Is there sufficient evidence to conclude that it really takes more than 28 minutes to complete the riddle ? Give statistical justification for your answer\n"
   ]
  },
  {
   "cell_type": "code",
   "execution_count": 8,
   "metadata": {
    "collapsed": true
   },
   "outputs": [],
   "source": [
    "from math import sqrt\n",
    "from scipy.stats import t"
   ]
  },
  {
   "cell_type": "code",
   "execution_count": 1,
   "metadata": {
    "collapsed": true
   },
   "outputs": [],
   "source": [
    "pop_mean = 28"
   ]
  },
  {
   "cell_type": "code",
   "execution_count": 3,
   "metadata": {},
   "outputs": [
    {
     "name": "stdout",
     "output_type": "stream",
     "text": [
      "Mean of the sampling distribution of sample means is 28\n"
     ]
    }
   ],
   "source": [
    "# sampling distribution of sample means\n",
    "sample_size = 10\n",
    "# Ho - null hypothesis - pop_mean = 28\n",
    "# Assume the null hypothesis to be true\n",
    "sampling_distr_sample_means_mean = pop_mean\n",
    "# sampling_distr_sample_means_std = ??? / sqrt(sample_size) // cannot calculate this\n",
    "print('Mean of the sampling distribution of sample means is {0}'.format(sampling_distr_sample_means_mean))"
   ]
  },
  {
   "cell_type": "code",
   "execution_count": 5,
   "metadata": {},
   "outputs": [
    {
     "name": "stdout",
     "output_type": "stream",
     "text": [
      "Seen sample mean is 35\n",
      "Seen sample std is 1.1\n"
     ]
    }
   ],
   "source": [
    "# take a sample from the above distribution\n",
    "seen_sample_mean = 35\n",
    "seen_sample_std = 1.1\n",
    "alpha = 0.05\n",
    "print('Seen sample mean is {0}'.format(seen_sample_mean))\n",
    "print('Seen sample std is {0}'.format(seen_sample_std))"
   ]
  },
  {
   "cell_type": "code",
   "execution_count": null,
   "metadata": {
    "collapsed": true
   },
   "outputs": [],
   "source": [
    "# Alternative hypothesis\n",
    "# Ha - pop_mean > 28"
   ]
  },
  {
   "cell_type": "code",
   "execution_count": 12,
   "metadata": {},
   "outputs": [
    {
     "name": "stdout",
     "output_type": "stream",
     "text": [
      "Std of the sampling distribution of sample means is 0.3478505426185217\n"
     ]
    }
   ],
   "source": [
    "# t - test\n",
    "sampling_distr_sample_means_std = seen_sample_std / sqrt(sample_size)\n",
    "# the above can be assumed only under 1 condition. i.e. we go ahead with a t-test rather than a z-test\n",
    "print('Std of the sampling distribution of sample means is {0}'.format(sampling_distr_sample_means_std))"
   ]
  },
  {
   "cell_type": "code",
   "execution_count": 13,
   "metadata": {},
   "outputs": [
    {
     "data": {
      "text/plain": [
       "4.2996554319220842e-09"
      ]
     },
     "execution_count": 13,
     "metadata": {},
     "output_type": "execute_result"
    }
   ],
   "source": [
    "p_value = t.sf(35, sample_size - 1, loc=sampling_distr_sample_means_mean, scale=sampling_distr_sample_means_std)\n",
    "p_value"
   ]
  },
  {
   "cell_type": "code",
   "execution_count": 14,
   "metadata": {},
   "outputs": [
    {
     "name": "stdout",
     "output_type": "stream",
     "text": [
      "We reject the null hypothesis\n"
     ]
    }
   ],
   "source": [
    "print('We reject the null hypothesis') if p_value < alpha else print('We fail to reject the null hypothesis')"
   ]
  }
 ],
 "metadata": {
  "kernelspec": {
   "display_name": "Python 3",
   "language": "python",
   "name": "python3"
  },
  "language_info": {
   "codemirror_mode": {
    "name": "ipython",
    "version": 3
   },
   "file_extension": ".py",
   "mimetype": "text/x-python",
   "name": "python",
   "nbconvert_exporter": "python",
   "pygments_lexer": "ipython3",
   "version": "3.6.3"
  }
 },
 "nbformat": 4,
 "nbformat_minor": 2
}
